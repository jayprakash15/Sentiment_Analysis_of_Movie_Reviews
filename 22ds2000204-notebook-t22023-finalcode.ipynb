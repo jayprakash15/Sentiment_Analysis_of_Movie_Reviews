{
 "cells": [
  {
   "cell_type": "code",
   "execution_count": 1,
   "metadata": {
    "_cell_guid": "b1076dfc-b9ad-4769-8c92-a6c4dae69d19",
    "_uuid": "8f2839f25d086af736a60e9eeb907d3b93b6e0e5",
    "execution": {
     "iopub.execute_input": "2023-07-28T07:04:32.021861Z",
     "iopub.status.busy": "2023-07-28T07:04:32.021247Z",
     "iopub.status.idle": "2023-07-28T07:04:32.056854Z",
     "shell.execute_reply": "2023-07-28T07:04:32.055573Z",
     "shell.execute_reply.started": "2023-07-28T07:04:32.021828Z"
    }
   },
   "outputs": [],
   "source": [
    "# This Python 3 environment comes with many helpful analytics libraries installed\n",
    "# It is defined by the kaggle/python Docker image: https://github.com/kaggle/docker-python\n",
    "# For example, here's several helpful packages to load\n",
    "\n",
    "import numpy as np # linear algebra\n",
    "import pandas as pd # data processing, CSV file I/O (e.g. pd.read_csv)\n",
    "\n",
    "# Input data files are available in the read-only \"../input/\" directory\n",
    "# For example, running this (by clicking run or pressing Shift+Enter) will list all files under the input directory\n",
    "\n",
    "# import os\n",
    "# for dirname, _, filenames in os.walk('/kaggle/input/'):\n",
    "#     for filename in filenames:\n",
    "#         print(os.path.join(dirname, filename))\n",
    "\n",
    "# You can write up to 20GB to the current directory (/kaggle/working/) that gets preserved as output when you create a version using \"Save & Run All\" \n",
    "# You can also write temporary files to /kaggle/temp/, but they won't be saved outside of the current session"
   ]
  },
  {
   "cell_type": "code",
   "execution_count": 2,
   "metadata": {
    "execution": {
     "iopub.execute_input": "2023-07-28T07:04:32.062025Z",
     "iopub.status.busy": "2023-07-28T07:04:32.061253Z",
     "iopub.status.idle": "2023-07-28T07:04:32.066985Z",
     "shell.execute_reply": "2023-07-28T07:04:32.065915Z",
     "shell.execute_reply.started": "2023-07-28T07:04:32.061972Z"
    }
   },
   "outputs": [],
   "source": [
    "import warnings\n",
    "warnings.filterwarnings('ignore')"
   ]
  },
  {
   "cell_type": "markdown",
   "metadata": {},
   "source": [
    "# Loading the data"
   ]
  },
  {
   "cell_type": "code",
   "execution_count": 3,
   "metadata": {
    "execution": {
     "iopub.execute_input": "2023-07-28T07:04:32.070098Z",
     "iopub.status.busy": "2023-07-28T07:04:32.069142Z",
     "iopub.status.idle": "2023-07-28T07:04:33.133174Z",
     "shell.execute_reply": "2023-07-28T07:04:33.131801Z",
     "shell.execute_reply.started": "2023-07-28T07:04:32.070016Z"
    }
   },
   "outputs": [
    {
     "data": {
      "text/html": [
       "<div>\n",
       "<style scoped>\n",
       "    .dataframe tbody tr th:only-of-type {\n",
       "        vertical-align: middle;\n",
       "    }\n",
       "\n",
       "    .dataframe tbody tr th {\n",
       "        vertical-align: top;\n",
       "    }\n",
       "\n",
       "    .dataframe thead th {\n",
       "        text-align: right;\n",
       "    }\n",
       "</style>\n",
       "<table border=\"1\" class=\"dataframe\">\n",
       "  <thead>\n",
       "    <tr style=\"text-align: right;\">\n",
       "      <th></th>\n",
       "      <th>movieid</th>\n",
       "      <th>reviewerName</th>\n",
       "      <th>isFrequentReviewer</th>\n",
       "      <th>reviewText</th>\n",
       "      <th>sentiment</th>\n",
       "    </tr>\n",
       "  </thead>\n",
       "  <tbody>\n",
       "    <tr>\n",
       "      <th>0</th>\n",
       "      <td>marvelous_pirate</td>\n",
       "      <td>Benjamin Henry</td>\n",
       "      <td>False</td>\n",
       "      <td>Henry Selick’s first movie since 2009’s Corali...</td>\n",
       "      <td>POSITIVE</td>\n",
       "    </tr>\n",
       "    <tr>\n",
       "      <th>1</th>\n",
       "      <td>tony_montana_frodo_baggins_v_rocky_balboa</td>\n",
       "      <td>Felicia Lopez</td>\n",
       "      <td>False</td>\n",
       "      <td>With a cast that reads like the Vogue Oscar pa...</td>\n",
       "      <td>NEGATIVE</td>\n",
       "    </tr>\n",
       "    <tr>\n",
       "      <th>2</th>\n",
       "      <td>darth_vader_katniss_everdeen_sorcerer_donnie_d...</td>\n",
       "      <td>Mr. Charles Burgess</td>\n",
       "      <td>True</td>\n",
       "      <td>Creed II does not give us anything but another...</td>\n",
       "      <td>POSITIVE</td>\n",
       "    </tr>\n",
       "    <tr>\n",
       "      <th>3</th>\n",
       "      <td>lara_croft_glimmer</td>\n",
       "      <td>Ryan Barrett</td>\n",
       "      <td>False</td>\n",
       "      <td>I know what you're thinking, but this is no Li...</td>\n",
       "      <td>POSITIVE</td>\n",
       "    </tr>\n",
       "    <tr>\n",
       "      <th>4</th>\n",
       "      <td>jason_bourne_surreal_the_terminator_indiana_jones</td>\n",
       "      <td>Alexander Glover</td>\n",
       "      <td>False</td>\n",
       "      <td>Director Fernando Meirelles tells the story wi...</td>\n",
       "      <td>POSITIVE</td>\n",
       "    </tr>\n",
       "  </tbody>\n",
       "</table>\n",
       "</div>"
      ],
      "text/plain": [
       "                                             movieid         reviewerName  \\\n",
       "0                                   marvelous_pirate       Benjamin Henry   \n",
       "1          tony_montana_frodo_baggins_v_rocky_balboa        Felicia Lopez   \n",
       "2  darth_vader_katniss_everdeen_sorcerer_donnie_d...  Mr. Charles Burgess   \n",
       "3                                 lara_croft_glimmer         Ryan Barrett   \n",
       "4  jason_bourne_surreal_the_terminator_indiana_jones     Alexander Glover   \n",
       "\n",
       "   isFrequentReviewer                                         reviewText  \\\n",
       "0               False  Henry Selick’s first movie since 2009’s Corali...   \n",
       "1               False  With a cast that reads like the Vogue Oscar pa...   \n",
       "2                True  Creed II does not give us anything but another...   \n",
       "3               False  I know what you're thinking, but this is no Li...   \n",
       "4               False  Director Fernando Meirelles tells the story wi...   \n",
       "\n",
       "  sentiment  \n",
       "0  POSITIVE  \n",
       "1  NEGATIVE  \n",
       "2  POSITIVE  \n",
       "3  POSITIVE  \n",
       "4  POSITIVE  "
      ]
     },
     "execution_count": 3,
     "metadata": {},
     "output_type": "execute_result"
    }
   ],
   "source": [
    "# Loading Train Data \n",
    "Train_Data = pd.read_csv('/kaggle/input/sentiment-prediction-on-movie-reviews/train.csv')\n",
    "# print(Train_Data.shape)\n",
    "Train_Data.head()"
   ]
  },
  {
   "cell_type": "code",
   "execution_count": 4,
   "metadata": {
    "execution": {
     "iopub.execute_input": "2023-07-28T07:04:33.136501Z",
     "iopub.status.busy": "2023-07-28T07:04:33.136001Z",
     "iopub.status.idle": "2023-07-28T07:04:33.481337Z",
     "shell.execute_reply": "2023-07-28T07:04:33.480117Z",
     "shell.execute_reply.started": "2023-07-28T07:04:33.136461Z"
    }
   },
   "outputs": [
    {
     "data": {
      "text/html": [
       "<div>\n",
       "<style scoped>\n",
       "    .dataframe tbody tr th:only-of-type {\n",
       "        vertical-align: middle;\n",
       "    }\n",
       "\n",
       "    .dataframe tbody tr th {\n",
       "        vertical-align: top;\n",
       "    }\n",
       "\n",
       "    .dataframe thead th {\n",
       "        text-align: right;\n",
       "    }\n",
       "</style>\n",
       "<table border=\"1\" class=\"dataframe\">\n",
       "  <thead>\n",
       "    <tr style=\"text-align: right;\">\n",
       "      <th></th>\n",
       "      <th>movieid</th>\n",
       "      <th>reviewerName</th>\n",
       "      <th>isTopCritic</th>\n",
       "      <th>reviewText</th>\n",
       "    </tr>\n",
       "  </thead>\n",
       "  <tbody>\n",
       "    <tr>\n",
       "      <th>0</th>\n",
       "      <td>legend_marty_mcfly_oracle</td>\n",
       "      <td>John Kim</td>\n",
       "      <td>False</td>\n",
       "      <td>Green slowly cranks up the dread with style an...</td>\n",
       "    </tr>\n",
       "    <tr>\n",
       "      <th>1</th>\n",
       "      <td>terminator_katniss_everdeen_glimmer</td>\n",
       "      <td>Brian Chaney</td>\n",
       "      <td>False</td>\n",
       "      <td>Philip Noyce's direction is elegant and unforc...</td>\n",
       "    </tr>\n",
       "    <tr>\n",
       "      <th>2</th>\n",
       "      <td>james_bond_labyrinth_gollum</td>\n",
       "      <td>Danielle Parker</td>\n",
       "      <td>False</td>\n",
       "      <td>It wouldn't do to say what path Maria ultimate...</td>\n",
       "    </tr>\n",
       "    <tr>\n",
       "      <th>3</th>\n",
       "      <td>v_quest_han_solo_wondrous</td>\n",
       "      <td>Brittany Lane</td>\n",
       "      <td>False</td>\n",
       "      <td>Pig is not exactly the arthouse John Wick that...</td>\n",
       "    </tr>\n",
       "    <tr>\n",
       "      <th>4</th>\n",
       "      <td>enigma_hulk_surreal_starlight</td>\n",
       "      <td>Justin Willis</td>\n",
       "      <td>False</td>\n",
       "      <td>An imaginative no-budget musical of sorts abou...</td>\n",
       "    </tr>\n",
       "  </tbody>\n",
       "</table>\n",
       "</div>"
      ],
      "text/plain": [
       "                               movieid     reviewerName  isTopCritic  \\\n",
       "0            legend_marty_mcfly_oracle         John Kim        False   \n",
       "1  terminator_katniss_everdeen_glimmer     Brian Chaney        False   \n",
       "2          james_bond_labyrinth_gollum  Danielle Parker        False   \n",
       "3            v_quest_han_solo_wondrous    Brittany Lane        False   \n",
       "4        enigma_hulk_surreal_starlight    Justin Willis        False   \n",
       "\n",
       "                                          reviewText  \n",
       "0  Green slowly cranks up the dread with style an...  \n",
       "1  Philip Noyce's direction is elegant and unforc...  \n",
       "2  It wouldn't do to say what path Maria ultimate...  \n",
       "3  Pig is not exactly the arthouse John Wick that...  \n",
       "4  An imaginative no-budget musical of sorts abou...  "
      ]
     },
     "execution_count": 4,
     "metadata": {},
     "output_type": "execute_result"
    }
   ],
   "source": [
    "# Loading Test Data\n",
    "Test_Data = pd.read_csv('/kaggle/input/sentiment-prediction-on-movie-reviews/test.csv')\n",
    "# print(Test_Data.shape)\n",
    "Test_Data.head()"
   ]
  },
  {
   "cell_type": "code",
   "execution_count": 5,
   "metadata": {
    "execution": {
     "iopub.execute_input": "2023-07-28T07:04:33.482937Z",
     "iopub.status.busy": "2023-07-28T07:04:33.482610Z",
     "iopub.status.idle": "2023-07-28T07:04:34.402187Z",
     "shell.execute_reply": "2023-07-28T07:04:34.401028Z",
     "shell.execute_reply.started": "2023-07-28T07:04:33.482910Z"
    }
   },
   "outputs": [
    {
     "data": {
      "text/html": [
       "<div>\n",
       "<style scoped>\n",
       "    .dataframe tbody tr th:only-of-type {\n",
       "        vertical-align: middle;\n",
       "    }\n",
       "\n",
       "    .dataframe tbody tr th {\n",
       "        vertical-align: top;\n",
       "    }\n",
       "\n",
       "    .dataframe thead th {\n",
       "        text-align: right;\n",
       "    }\n",
       "</style>\n",
       "<table border=\"1\" class=\"dataframe\">\n",
       "  <thead>\n",
       "    <tr style=\"text-align: right;\">\n",
       "      <th></th>\n",
       "      <th>movieid</th>\n",
       "      <th>title</th>\n",
       "      <th>audienceScore</th>\n",
       "      <th>rating</th>\n",
       "      <th>ratingContents</th>\n",
       "      <th>releaseDateTheaters</th>\n",
       "      <th>releaseDateStreaming</th>\n",
       "      <th>runtimeMinutes</th>\n",
       "      <th>genre</th>\n",
       "      <th>originalLanguage</th>\n",
       "      <th>director</th>\n",
       "      <th>boxOffice</th>\n",
       "      <th>distributor</th>\n",
       "      <th>soundType</th>\n",
       "    </tr>\n",
       "  </thead>\n",
       "  <tbody>\n",
       "    <tr>\n",
       "      <th>0</th>\n",
       "      <td>han_solo_heroic_myth_wonder_woman</td>\n",
       "      <td>Han Solo Heroic Myth Wonder Woman</td>\n",
       "      <td>50.0</td>\n",
       "      <td>NaN</td>\n",
       "      <td>NaN</td>\n",
       "      <td>NaN</td>\n",
       "      <td>2018-08-25</td>\n",
       "      <td>75.0</td>\n",
       "      <td>Comedy, Horror, Sci-fi</td>\n",
       "      <td>English</td>\n",
       "      <td>Claude Nicolet</td>\n",
       "      <td>NaN</td>\n",
       "      <td>NaN</td>\n",
       "      <td>NaN</td>\n",
       "    </tr>\n",
       "    <tr>\n",
       "      <th>1</th>\n",
       "      <td>voyage_tyler_durden_han_solo_stardust</td>\n",
       "      <td>Voyage Tyler Durden Han Solo Stardust</td>\n",
       "      <td>NaN</td>\n",
       "      <td>NaN</td>\n",
       "      <td>NaN</td>\n",
       "      <td>NaN</td>\n",
       "      <td>2020-02-11</td>\n",
       "      <td>114.0</td>\n",
       "      <td>Drama</td>\n",
       "      <td>English</td>\n",
       "      <td>Nathan Haack</td>\n",
       "      <td>NaN</td>\n",
       "      <td>NaN</td>\n",
       "      <td>NaN</td>\n",
       "    </tr>\n",
       "    <tr>\n",
       "      <th>2</th>\n",
       "      <td>norman_bates_ferris_bueller_hermione_granger_v...</td>\n",
       "      <td>Norman Bates Ferris Bueller Hermione Granger V...</td>\n",
       "      <td>43.0</td>\n",
       "      <td>NaN</td>\n",
       "      <td>NaN</td>\n",
       "      <td>NaN</td>\n",
       "      <td>NaN</td>\n",
       "      <td>120.0</td>\n",
       "      <td>Drama</td>\n",
       "      <td>Korean</td>\n",
       "      <td>Theresa Smith</td>\n",
       "      <td>NaN</td>\n",
       "      <td>NaN</td>\n",
       "      <td>NaN</td>\n",
       "    </tr>\n",
       "    <tr>\n",
       "      <th>3</th>\n",
       "      <td>elegant_hermione_granger</td>\n",
       "      <td>Elegant Hermione Granger</td>\n",
       "      <td>60.0</td>\n",
       "      <td>NaN</td>\n",
       "      <td>NaN</td>\n",
       "      <td>NaN</td>\n",
       "      <td>2020-10-23</td>\n",
       "      <td>90.0</td>\n",
       "      <td>Action, Mystery &amp; thriller</td>\n",
       "      <td>English</td>\n",
       "      <td>Donald Lewis</td>\n",
       "      <td>NaN</td>\n",
       "      <td>NaN</td>\n",
       "      <td>NaN</td>\n",
       "    </tr>\n",
       "    <tr>\n",
       "      <th>4</th>\n",
       "      <td>adventure_rocky_balboa</td>\n",
       "      <td>Adventure Rocky Balboa</td>\n",
       "      <td>70.0</td>\n",
       "      <td>NaN</td>\n",
       "      <td>NaN</td>\n",
       "      <td>NaN</td>\n",
       "      <td>2017-03-27</td>\n",
       "      <td>80.0</td>\n",
       "      <td>Fantasy, Adventure, Animation</td>\n",
       "      <td>English</td>\n",
       "      <td>Howard Simms</td>\n",
       "      <td>NaN</td>\n",
       "      <td>NaN</td>\n",
       "      <td>NaN</td>\n",
       "    </tr>\n",
       "  </tbody>\n",
       "</table>\n",
       "</div>"
      ],
      "text/plain": [
       "                                             movieid  \\\n",
       "0                  han_solo_heroic_myth_wonder_woman   \n",
       "1              voyage_tyler_durden_han_solo_stardust   \n",
       "2  norman_bates_ferris_bueller_hermione_granger_v...   \n",
       "3                           elegant_hermione_granger   \n",
       "4                             adventure_rocky_balboa   \n",
       "\n",
       "                                               title  audienceScore rating  \\\n",
       "0                  Han Solo Heroic Myth Wonder Woman           50.0    NaN   \n",
       "1              Voyage Tyler Durden Han Solo Stardust            NaN    NaN   \n",
       "2  Norman Bates Ferris Bueller Hermione Granger V...           43.0    NaN   \n",
       "3                           Elegant Hermione Granger           60.0    NaN   \n",
       "4                             Adventure Rocky Balboa           70.0    NaN   \n",
       "\n",
       "  ratingContents releaseDateTheaters releaseDateStreaming  runtimeMinutes  \\\n",
       "0            NaN                 NaN           2018-08-25            75.0   \n",
       "1            NaN                 NaN           2020-02-11           114.0   \n",
       "2            NaN                 NaN                  NaN           120.0   \n",
       "3            NaN                 NaN           2020-10-23            90.0   \n",
       "4            NaN                 NaN           2017-03-27            80.0   \n",
       "\n",
       "                           genre originalLanguage        director boxOffice  \\\n",
       "0         Comedy, Horror, Sci-fi          English  Claude Nicolet       NaN   \n",
       "1                          Drama          English    Nathan Haack       NaN   \n",
       "2                          Drama           Korean   Theresa Smith       NaN   \n",
       "3     Action, Mystery & thriller          English    Donald Lewis       NaN   \n",
       "4  Fantasy, Adventure, Animation          English    Howard Simms       NaN   \n",
       "\n",
       "  distributor soundType  \n",
       "0         NaN       NaN  \n",
       "1         NaN       NaN  \n",
       "2         NaN       NaN  \n",
       "3         NaN       NaN  \n",
       "4         NaN       NaN  "
      ]
     },
     "execution_count": 5,
     "metadata": {},
     "output_type": "execute_result"
    }
   ],
   "source": [
    "# Loading Movies Data \n",
    "Movies_Data = pd.read_csv('/kaggle/input/sentiment-prediction-on-movie-reviews/movies.csv')\n",
    "# print(Movies_Data.shape)\n",
    "Movies_Data.head()"
   ]
  },
  {
   "cell_type": "code",
   "execution_count": 6,
   "metadata": {
    "execution": {
     "iopub.execute_input": "2023-07-28T07:04:34.403920Z",
     "iopub.status.busy": "2023-07-28T07:04:34.403579Z",
     "iopub.status.idle": "2023-07-28T07:04:34.618648Z",
     "shell.execute_reply": "2023-07-28T07:04:34.617778Z",
     "shell.execute_reply.started": "2023-07-28T07:04:34.403893Z"
    }
   },
   "outputs": [
    {
     "data": {
      "text/plain": [
       "movieid                  0\n",
       "reviewerName             0\n",
       "isFrequentReviewer       0\n",
       "reviewText            6447\n",
       "sentiment                0\n",
       "dtype: int64"
      ]
     },
     "execution_count": 6,
     "metadata": {},
     "output_type": "execute_result"
    }
   ],
   "source": [
    "Train_Data.isnull().sum()"
   ]
  },
  {
   "cell_type": "code",
   "execution_count": 7,
   "metadata": {
    "execution": {
     "iopub.execute_input": "2023-07-28T07:04:34.620795Z",
     "iopub.status.busy": "2023-07-28T07:04:34.619884Z",
     "iopub.status.idle": "2023-07-28T07:04:34.684772Z",
     "shell.execute_reply": "2023-07-28T07:04:34.683374Z",
     "shell.execute_reply.started": "2023-07-28T07:04:34.620761Z"
    }
   },
   "outputs": [
    {
     "data": {
      "text/plain": [
       "movieid            0\n",
       "reviewerName       0\n",
       "isTopCritic        0\n",
       "reviewText      2510\n",
       "dtype: int64"
      ]
     },
     "execution_count": 7,
     "metadata": {},
     "output_type": "execute_result"
    }
   ],
   "source": [
    "Test_Data.isnull().sum()"
   ]
  },
  {
   "cell_type": "markdown",
   "metadata": {},
   "source": [
    "# Merging movie.csv file to train.csv and test.csv files on movieid column"
   ]
  },
  {
   "cell_type": "code",
   "execution_count": 8,
   "metadata": {
    "execution": {
     "iopub.execute_input": "2023-07-28T07:04:34.690345Z",
     "iopub.status.busy": "2023-07-28T07:04:34.689942Z",
     "iopub.status.idle": "2023-07-28T07:04:35.212514Z",
     "shell.execute_reply": "2023-07-28T07:04:35.211426Z",
     "shell.execute_reply.started": "2023-07-28T07:04:34.690314Z"
    }
   },
   "outputs": [
    {
     "data": {
      "text/html": [
       "<div>\n",
       "<style scoped>\n",
       "    .dataframe tbody tr th:only-of-type {\n",
       "        vertical-align: middle;\n",
       "    }\n",
       "\n",
       "    .dataframe tbody tr th {\n",
       "        vertical-align: top;\n",
       "    }\n",
       "\n",
       "    .dataframe thead th {\n",
       "        text-align: right;\n",
       "    }\n",
       "</style>\n",
       "<table border=\"1\" class=\"dataframe\">\n",
       "  <thead>\n",
       "    <tr style=\"text-align: right;\">\n",
       "      <th></th>\n",
       "      <th>movieid</th>\n",
       "      <th>reviewerName</th>\n",
       "      <th>isFrequentReviewer</th>\n",
       "      <th>reviewText</th>\n",
       "      <th>sentiment</th>\n",
       "      <th>title</th>\n",
       "      <th>audienceScore</th>\n",
       "      <th>rating</th>\n",
       "      <th>ratingContents</th>\n",
       "      <th>releaseDateTheaters</th>\n",
       "      <th>releaseDateStreaming</th>\n",
       "      <th>runtimeMinutes</th>\n",
       "      <th>genre</th>\n",
       "      <th>originalLanguage</th>\n",
       "      <th>director</th>\n",
       "      <th>boxOffice</th>\n",
       "      <th>distributor</th>\n",
       "      <th>soundType</th>\n",
       "    </tr>\n",
       "  </thead>\n",
       "  <tbody>\n",
       "    <tr>\n",
       "      <th>0</th>\n",
       "      <td>marvelous_pirate</td>\n",
       "      <td>Benjamin Henry</td>\n",
       "      <td>False</td>\n",
       "      <td>Henry Selick’s first movie since 2009’s Corali...</td>\n",
       "      <td>POSITIVE</td>\n",
       "      <td>Marvelous Pirate</td>\n",
       "      <td>65.0</td>\n",
       "      <td>PG-13</td>\n",
       "      <td>['Violence', 'Brief Strong Language', 'Substan...</td>\n",
       "      <td>2022-10-21</td>\n",
       "      <td>2022-10-28</td>\n",
       "      <td>105.0</td>\n",
       "      <td>Comedy, Animation, Adventure, Fantasy</td>\n",
       "      <td>English</td>\n",
       "      <td>Bennie Basso</td>\n",
       "      <td>NaN</td>\n",
       "      <td>Netflix</td>\n",
       "      <td>NaN</td>\n",
       "    </tr>\n",
       "    <tr>\n",
       "      <th>1</th>\n",
       "      <td>marvelous_pirate</td>\n",
       "      <td>Sharon Foster</td>\n",
       "      <td>False</td>\n",
       "      <td>&amp;#91;T&amp;#93;he haphazard way this story is asse...</td>\n",
       "      <td>NEGATIVE</td>\n",
       "      <td>Marvelous Pirate</td>\n",
       "      <td>65.0</td>\n",
       "      <td>PG-13</td>\n",
       "      <td>['Violence', 'Brief Strong Language', 'Substan...</td>\n",
       "      <td>2022-10-21</td>\n",
       "      <td>2022-10-28</td>\n",
       "      <td>105.0</td>\n",
       "      <td>Comedy, Animation, Adventure, Fantasy</td>\n",
       "      <td>English</td>\n",
       "      <td>Bennie Basso</td>\n",
       "      <td>NaN</td>\n",
       "      <td>Netflix</td>\n",
       "      <td>NaN</td>\n",
       "    </tr>\n",
       "    <tr>\n",
       "      <th>2</th>\n",
       "      <td>marvelous_pirate</td>\n",
       "      <td>Melinda Dunn</td>\n",
       "      <td>False</td>\n",
       "      <td>The stop-motion artistry of Wendell &amp;amp; Wild...</td>\n",
       "      <td>POSITIVE</td>\n",
       "      <td>Marvelous Pirate</td>\n",
       "      <td>65.0</td>\n",
       "      <td>PG-13</td>\n",
       "      <td>['Violence', 'Brief Strong Language', 'Substan...</td>\n",
       "      <td>2022-10-21</td>\n",
       "      <td>2022-10-28</td>\n",
       "      <td>105.0</td>\n",
       "      <td>Comedy, Animation, Adventure, Fantasy</td>\n",
       "      <td>English</td>\n",
       "      <td>Bennie Basso</td>\n",
       "      <td>NaN</td>\n",
       "      <td>Netflix</td>\n",
       "      <td>NaN</td>\n",
       "    </tr>\n",
       "    <tr>\n",
       "      <th>3</th>\n",
       "      <td>marvelous_pirate</td>\n",
       "      <td>Mr. Wayne Smith</td>\n",
       "      <td>False</td>\n",
       "      <td>Wendell &amp;amp; Wild is narratively overstuffed ...</td>\n",
       "      <td>NEGATIVE</td>\n",
       "      <td>Marvelous Pirate</td>\n",
       "      <td>65.0</td>\n",
       "      <td>PG-13</td>\n",
       "      <td>['Violence', 'Brief Strong Language', 'Substan...</td>\n",
       "      <td>2022-10-21</td>\n",
       "      <td>2022-10-28</td>\n",
       "      <td>105.0</td>\n",
       "      <td>Comedy, Animation, Adventure, Fantasy</td>\n",
       "      <td>English</td>\n",
       "      <td>Bennie Basso</td>\n",
       "      <td>NaN</td>\n",
       "      <td>Netflix</td>\n",
       "      <td>NaN</td>\n",
       "    </tr>\n",
       "    <tr>\n",
       "      <th>4</th>\n",
       "      <td>marvelous_pirate</td>\n",
       "      <td>Connor Nelson</td>\n",
       "      <td>False</td>\n",
       "      <td>For being about the Netherworlds&amp;#44; it&amp;#8217...</td>\n",
       "      <td>POSITIVE</td>\n",
       "      <td>Marvelous Pirate</td>\n",
       "      <td>65.0</td>\n",
       "      <td>PG-13</td>\n",
       "      <td>['Violence', 'Brief Strong Language', 'Substan...</td>\n",
       "      <td>2022-10-21</td>\n",
       "      <td>2022-10-28</td>\n",
       "      <td>105.0</td>\n",
       "      <td>Comedy, Animation, Adventure, Fantasy</td>\n",
       "      <td>English</td>\n",
       "      <td>Bennie Basso</td>\n",
       "      <td>NaN</td>\n",
       "      <td>Netflix</td>\n",
       "      <td>NaN</td>\n",
       "    </tr>\n",
       "  </tbody>\n",
       "</table>\n",
       "</div>"
      ],
      "text/plain": [
       "            movieid     reviewerName  isFrequentReviewer  \\\n",
       "0  marvelous_pirate   Benjamin Henry               False   \n",
       "1  marvelous_pirate    Sharon Foster               False   \n",
       "2  marvelous_pirate     Melinda Dunn               False   \n",
       "3  marvelous_pirate  Mr. Wayne Smith               False   \n",
       "4  marvelous_pirate    Connor Nelson               False   \n",
       "\n",
       "                                          reviewText sentiment  \\\n",
       "0  Henry Selick’s first movie since 2009’s Corali...  POSITIVE   \n",
       "1  &#91;T&#93;he haphazard way this story is asse...  NEGATIVE   \n",
       "2  The stop-motion artistry of Wendell &amp; Wild...  POSITIVE   \n",
       "3  Wendell &amp; Wild is narratively overstuffed ...  NEGATIVE   \n",
       "4  For being about the Netherworlds&#44; it&#8217...  POSITIVE   \n",
       "\n",
       "              title  audienceScore rating  \\\n",
       "0  Marvelous Pirate           65.0  PG-13   \n",
       "1  Marvelous Pirate           65.0  PG-13   \n",
       "2  Marvelous Pirate           65.0  PG-13   \n",
       "3  Marvelous Pirate           65.0  PG-13   \n",
       "4  Marvelous Pirate           65.0  PG-13   \n",
       "\n",
       "                                      ratingContents releaseDateTheaters  \\\n",
       "0  ['Violence', 'Brief Strong Language', 'Substan...          2022-10-21   \n",
       "1  ['Violence', 'Brief Strong Language', 'Substan...          2022-10-21   \n",
       "2  ['Violence', 'Brief Strong Language', 'Substan...          2022-10-21   \n",
       "3  ['Violence', 'Brief Strong Language', 'Substan...          2022-10-21   \n",
       "4  ['Violence', 'Brief Strong Language', 'Substan...          2022-10-21   \n",
       "\n",
       "  releaseDateStreaming  runtimeMinutes                                  genre  \\\n",
       "0           2022-10-28           105.0  Comedy, Animation, Adventure, Fantasy   \n",
       "1           2022-10-28           105.0  Comedy, Animation, Adventure, Fantasy   \n",
       "2           2022-10-28           105.0  Comedy, Animation, Adventure, Fantasy   \n",
       "3           2022-10-28           105.0  Comedy, Animation, Adventure, Fantasy   \n",
       "4           2022-10-28           105.0  Comedy, Animation, Adventure, Fantasy   \n",
       "\n",
       "  originalLanguage      director boxOffice distributor soundType  \n",
       "0          English  Bennie Basso       NaN     Netflix       NaN  \n",
       "1          English  Bennie Basso       NaN     Netflix       NaN  \n",
       "2          English  Bennie Basso       NaN     Netflix       NaN  \n",
       "3          English  Bennie Basso       NaN     Netflix       NaN  \n",
       "4          English  Bennie Basso       NaN     Netflix       NaN  "
      ]
     },
     "execution_count": 8,
     "metadata": {},
     "output_type": "execute_result"
    }
   ],
   "source": [
    "# Join Movies.csv and train.csv on movieid column\n",
    "\n",
    "Merged_Data_Train = pd.merge(Train_Data, Movies_Data, on='movieid')\n",
    "Merged_Data_Train.head()"
   ]
  },
  {
   "cell_type": "code",
   "execution_count": 9,
   "metadata": {
    "execution": {
     "iopub.execute_input": "2023-07-28T07:04:35.214708Z",
     "iopub.status.busy": "2023-07-28T07:04:35.214287Z",
     "iopub.status.idle": "2023-07-28T07:04:35.465320Z",
     "shell.execute_reply": "2023-07-28T07:04:35.464498Z",
     "shell.execute_reply.started": "2023-07-28T07:04:35.214670Z"
    }
   },
   "outputs": [
    {
     "data": {
      "text/html": [
       "<div>\n",
       "<style scoped>\n",
       "    .dataframe tbody tr th:only-of-type {\n",
       "        vertical-align: middle;\n",
       "    }\n",
       "\n",
       "    .dataframe tbody tr th {\n",
       "        vertical-align: top;\n",
       "    }\n",
       "\n",
       "    .dataframe thead th {\n",
       "        text-align: right;\n",
       "    }\n",
       "</style>\n",
       "<table border=\"1\" class=\"dataframe\">\n",
       "  <thead>\n",
       "    <tr style=\"text-align: right;\">\n",
       "      <th></th>\n",
       "      <th>movieid</th>\n",
       "      <th>reviewerName</th>\n",
       "      <th>isTopCritic</th>\n",
       "      <th>reviewText</th>\n",
       "      <th>title</th>\n",
       "      <th>audienceScore</th>\n",
       "      <th>rating</th>\n",
       "      <th>ratingContents</th>\n",
       "      <th>releaseDateTheaters</th>\n",
       "      <th>releaseDateStreaming</th>\n",
       "      <th>runtimeMinutes</th>\n",
       "      <th>genre</th>\n",
       "      <th>originalLanguage</th>\n",
       "      <th>director</th>\n",
       "      <th>boxOffice</th>\n",
       "      <th>distributor</th>\n",
       "      <th>soundType</th>\n",
       "    </tr>\n",
       "  </thead>\n",
       "  <tbody>\n",
       "    <tr>\n",
       "      <th>0</th>\n",
       "      <td>legend_marty_mcfly_oracle</td>\n",
       "      <td>John Kim</td>\n",
       "      <td>False</td>\n",
       "      <td>Green slowly cranks up the dread with style an...</td>\n",
       "      <td>Legend Marty McFly Oracle</td>\n",
       "      <td>57.0</td>\n",
       "      <td>R</td>\n",
       "      <td>['Gore', 'Bloody Horror Violence', 'Language T...</td>\n",
       "      <td>2022-10-14</td>\n",
       "      <td>2022-10-14</td>\n",
       "      <td>111.0</td>\n",
       "      <td>Holiday, Horror, Mystery &amp; thriller</td>\n",
       "      <td>English</td>\n",
       "      <td>Sara Barnett</td>\n",
       "      <td>$64.0M</td>\n",
       "      <td>Universal Pictures</td>\n",
       "      <td>Dolby Atmos</td>\n",
       "    </tr>\n",
       "    <tr>\n",
       "      <th>1</th>\n",
       "      <td>legend_marty_mcfly_oracle</td>\n",
       "      <td>Kathleen Poole</td>\n",
       "      <td>False</td>\n",
       "      <td>Considering this is the 13th Halloween movie&amp;#...</td>\n",
       "      <td>Legend Marty McFly Oracle</td>\n",
       "      <td>57.0</td>\n",
       "      <td>R</td>\n",
       "      <td>['Gore', 'Bloody Horror Violence', 'Language T...</td>\n",
       "      <td>2022-10-14</td>\n",
       "      <td>2022-10-14</td>\n",
       "      <td>111.0</td>\n",
       "      <td>Holiday, Horror, Mystery &amp; thriller</td>\n",
       "      <td>English</td>\n",
       "      <td>Sara Barnett</td>\n",
       "      <td>$64.0M</td>\n",
       "      <td>Universal Pictures</td>\n",
       "      <td>Dolby Atmos</td>\n",
       "    </tr>\n",
       "    <tr>\n",
       "      <th>2</th>\n",
       "      <td>legend_marty_mcfly_oracle</td>\n",
       "      <td>Kenneth Lamb</td>\n",
       "      <td>False</td>\n",
       "      <td>Halloween Ends is by no means the worst horror...</td>\n",
       "      <td>Legend Marty McFly Oracle</td>\n",
       "      <td>57.0</td>\n",
       "      <td>R</td>\n",
       "      <td>['Gore', 'Bloody Horror Violence', 'Language T...</td>\n",
       "      <td>2022-10-14</td>\n",
       "      <td>2022-10-14</td>\n",
       "      <td>111.0</td>\n",
       "      <td>Holiday, Horror, Mystery &amp; thriller</td>\n",
       "      <td>English</td>\n",
       "      <td>Sara Barnett</td>\n",
       "      <td>$64.0M</td>\n",
       "      <td>Universal Pictures</td>\n",
       "      <td>Dolby Atmos</td>\n",
       "    </tr>\n",
       "    <tr>\n",
       "      <th>3</th>\n",
       "      <td>legend_marty_mcfly_oracle</td>\n",
       "      <td>Brittany Lane</td>\n",
       "      <td>False</td>\n",
       "      <td>A concluding chapter that shares more DNA with...</td>\n",
       "      <td>Legend Marty McFly Oracle</td>\n",
       "      <td>57.0</td>\n",
       "      <td>R</td>\n",
       "      <td>['Gore', 'Bloody Horror Violence', 'Language T...</td>\n",
       "      <td>2022-10-14</td>\n",
       "      <td>2022-10-14</td>\n",
       "      <td>111.0</td>\n",
       "      <td>Holiday, Horror, Mystery &amp; thriller</td>\n",
       "      <td>English</td>\n",
       "      <td>Sara Barnett</td>\n",
       "      <td>$64.0M</td>\n",
       "      <td>Universal Pictures</td>\n",
       "      <td>Dolby Atmos</td>\n",
       "    </tr>\n",
       "    <tr>\n",
       "      <th>4</th>\n",
       "      <td>legend_marty_mcfly_oracle</td>\n",
       "      <td>Yolanda Thomas</td>\n",
       "      <td>False</td>\n",
       "      <td>For a film called Halloween Ends&amp;#44; let&amp;#821...</td>\n",
       "      <td>Legend Marty McFly Oracle</td>\n",
       "      <td>57.0</td>\n",
       "      <td>R</td>\n",
       "      <td>['Gore', 'Bloody Horror Violence', 'Language T...</td>\n",
       "      <td>2022-10-14</td>\n",
       "      <td>2022-10-14</td>\n",
       "      <td>111.0</td>\n",
       "      <td>Holiday, Horror, Mystery &amp; thriller</td>\n",
       "      <td>English</td>\n",
       "      <td>Sara Barnett</td>\n",
       "      <td>$64.0M</td>\n",
       "      <td>Universal Pictures</td>\n",
       "      <td>Dolby Atmos</td>\n",
       "    </tr>\n",
       "  </tbody>\n",
       "</table>\n",
       "</div>"
      ],
      "text/plain": [
       "                     movieid    reviewerName  isTopCritic  \\\n",
       "0  legend_marty_mcfly_oracle        John Kim        False   \n",
       "1  legend_marty_mcfly_oracle  Kathleen Poole        False   \n",
       "2  legend_marty_mcfly_oracle    Kenneth Lamb        False   \n",
       "3  legend_marty_mcfly_oracle   Brittany Lane        False   \n",
       "4  legend_marty_mcfly_oracle  Yolanda Thomas        False   \n",
       "\n",
       "                                          reviewText  \\\n",
       "0  Green slowly cranks up the dread with style an...   \n",
       "1  Considering this is the 13th Halloween movie&#...   \n",
       "2  Halloween Ends is by no means the worst horror...   \n",
       "3  A concluding chapter that shares more DNA with...   \n",
       "4  For a film called Halloween Ends&#44; let&#821...   \n",
       "\n",
       "                       title  audienceScore rating  \\\n",
       "0  Legend Marty McFly Oracle           57.0      R   \n",
       "1  Legend Marty McFly Oracle           57.0      R   \n",
       "2  Legend Marty McFly Oracle           57.0      R   \n",
       "3  Legend Marty McFly Oracle           57.0      R   \n",
       "4  Legend Marty McFly Oracle           57.0      R   \n",
       "\n",
       "                                      ratingContents releaseDateTheaters  \\\n",
       "0  ['Gore', 'Bloody Horror Violence', 'Language T...          2022-10-14   \n",
       "1  ['Gore', 'Bloody Horror Violence', 'Language T...          2022-10-14   \n",
       "2  ['Gore', 'Bloody Horror Violence', 'Language T...          2022-10-14   \n",
       "3  ['Gore', 'Bloody Horror Violence', 'Language T...          2022-10-14   \n",
       "4  ['Gore', 'Bloody Horror Violence', 'Language T...          2022-10-14   \n",
       "\n",
       "  releaseDateStreaming  runtimeMinutes                                genre  \\\n",
       "0           2022-10-14           111.0  Holiday, Horror, Mystery & thriller   \n",
       "1           2022-10-14           111.0  Holiday, Horror, Mystery & thriller   \n",
       "2           2022-10-14           111.0  Holiday, Horror, Mystery & thriller   \n",
       "3           2022-10-14           111.0  Holiday, Horror, Mystery & thriller   \n",
       "4           2022-10-14           111.0  Holiday, Horror, Mystery & thriller   \n",
       "\n",
       "  originalLanguage      director boxOffice         distributor    soundType  \n",
       "0          English  Sara Barnett    $64.0M  Universal Pictures  Dolby Atmos  \n",
       "1          English  Sara Barnett    $64.0M  Universal Pictures  Dolby Atmos  \n",
       "2          English  Sara Barnett    $64.0M  Universal Pictures  Dolby Atmos  \n",
       "3          English  Sara Barnett    $64.0M  Universal Pictures  Dolby Atmos  \n",
       "4          English  Sara Barnett    $64.0M  Universal Pictures  Dolby Atmos  "
      ]
     },
     "execution_count": 9,
     "metadata": {},
     "output_type": "execute_result"
    }
   ],
   "source": [
    "# Join Movies.csv and train.csv on movieid column\n",
    "\n",
    "Merged_Data_Test = pd.merge(Test_Data, Movies_Data, on='movieid')\n",
    "Merged_Data_Test.head()"
   ]
  },
  {
   "cell_type": "code",
   "execution_count": 10,
   "metadata": {
    "execution": {
     "iopub.execute_input": "2023-07-28T07:04:35.467492Z",
     "iopub.status.busy": "2023-07-28T07:04:35.466613Z",
     "iopub.status.idle": "2023-07-28T07:04:35.473716Z",
     "shell.execute_reply": "2023-07-28T07:04:35.472622Z",
     "shell.execute_reply.started": "2023-07-28T07:04:35.467462Z"
    }
   },
   "outputs": [
    {
     "data": {
      "text/plain": [
       "(525277, 18)"
      ]
     },
     "execution_count": 10,
     "metadata": {},
     "output_type": "execute_result"
    }
   ],
   "source": [
    "Merged_Data_Train.shape"
   ]
  },
  {
   "cell_type": "code",
   "execution_count": 11,
   "metadata": {
    "execution": {
     "iopub.execute_input": "2023-07-28T07:04:35.475396Z",
     "iopub.status.busy": "2023-07-28T07:04:35.475049Z",
     "iopub.status.idle": "2023-07-28T07:04:35.489424Z",
     "shell.execute_reply": "2023-07-28T07:04:35.488021Z",
     "shell.execute_reply.started": "2023-07-28T07:04:35.475369Z"
    }
   },
   "outputs": [
    {
     "data": {
      "text/plain": [
       "(162758, 5)"
      ]
     },
     "execution_count": 11,
     "metadata": {},
     "output_type": "execute_result"
    }
   ],
   "source": [
    "Train_Data.shape"
   ]
  },
  {
   "cell_type": "code",
   "execution_count": 12,
   "metadata": {
    "execution": {
     "iopub.execute_input": "2023-07-28T07:04:35.492148Z",
     "iopub.status.busy": "2023-07-28T07:04:35.491333Z",
     "iopub.status.idle": "2023-07-28T07:04:35.501994Z",
     "shell.execute_reply": "2023-07-28T07:04:35.500842Z",
     "shell.execute_reply.started": "2023-07-28T07:04:35.492103Z"
    }
   },
   "outputs": [
    {
     "data": {
      "text/plain": [
       "(172615, 17)"
      ]
     },
     "execution_count": 12,
     "metadata": {},
     "output_type": "execute_result"
    }
   ],
   "source": [
    "Merged_Data_Test.shape"
   ]
  },
  {
   "cell_type": "code",
   "execution_count": 13,
   "metadata": {
    "execution": {
     "iopub.execute_input": "2023-07-28T07:04:35.503760Z",
     "iopub.status.busy": "2023-07-28T07:04:35.503405Z",
     "iopub.status.idle": "2023-07-28T07:04:35.515266Z",
     "shell.execute_reply": "2023-07-28T07:04:35.514175Z",
     "shell.execute_reply.started": "2023-07-28T07:04:35.503733Z"
    }
   },
   "outputs": [
    {
     "data": {
      "text/plain": [
       "(55315, 4)"
      ]
     },
     "execution_count": 13,
     "metadata": {},
     "output_type": "execute_result"
    }
   ],
   "source": [
    "Test_Data.shape"
   ]
  },
  {
   "cell_type": "code",
   "execution_count": 14,
   "metadata": {
    "execution": {
     "iopub.execute_input": "2023-07-28T07:04:35.517009Z",
     "iopub.status.busy": "2023-07-28T07:04:35.516702Z",
     "iopub.status.idle": "2023-07-28T07:04:38.070277Z",
     "shell.execute_reply": "2023-07-28T07:04:38.068190Z",
     "shell.execute_reply.started": "2023-07-28T07:04:35.516983Z"
    }
   },
   "outputs": [
    {
     "name": "stdout",
     "output_type": "stream",
     "text": [
      "<class 'pandas.core.frame.DataFrame'>\n",
      "RangeIndex: 162758 entries, 0 to 162757\n",
      "Data columns (total 5 columns):\n",
      " #   Column              Non-Null Count   Dtype \n",
      "---  ------              --------------   ----- \n",
      " 0   movieid             162758 non-null  object\n",
      " 1   reviewerName        162758 non-null  object\n",
      " 2   isFrequentReviewer  162758 non-null  bool  \n",
      " 3   reviewText          156311 non-null  object\n",
      " 4   sentiment           162758 non-null  object\n",
      "dtypes: bool(1), object(4)\n",
      "memory usage: 5.1+ MB\n",
      "None\n",
      "<class 'pandas.core.frame.DataFrame'>\n",
      "Int64Index: 525277 entries, 0 to 525276\n",
      "Data columns (total 18 columns):\n",
      " #   Column                Non-Null Count   Dtype  \n",
      "---  ------                --------------   -----  \n",
      " 0   movieid               525277 non-null  object \n",
      " 1   reviewerName          525277 non-null  object \n",
      " 2   isFrequentReviewer    525277 non-null  bool   \n",
      " 3   reviewText            501460 non-null  object \n",
      " 4   sentiment             525277 non-null  object \n",
      " 5   title                 525277 non-null  object \n",
      " 6   audienceScore         224448 non-null  float64\n",
      " 7   rating                134486 non-null  object \n",
      " 8   ratingContents        134486 non-null  object \n",
      " 9   releaseDateTheaters   182326 non-null  object \n",
      " 10  releaseDateStreaming  249433 non-null  object \n",
      " 11  runtimeMinutes        302589 non-null  float64\n",
      " 12  genre                 307944 non-null  object \n",
      " 13  originalLanguage      304822 non-null  object \n",
      " 14  director              525277 non-null  object \n",
      " 15  boxOffice             145061 non-null  object \n",
      " 16  distributor           169685 non-null  object \n",
      " 17  soundType             109358 non-null  object \n",
      "dtypes: bool(1), float64(2), object(15)\n",
      "memory usage: 72.6+ MB\n",
      "None\n"
     ]
    }
   ],
   "source": [
    "# Finding numeric data if any, \n",
    "print(Train_Data.info())\n",
    "# There are no numerical data indside the train varible\n",
    "\n",
    "print(Merged_Data_Train.info())\n",
    "# But there are few numeric variables in the dataset"
   ]
  },
  {
   "cell_type": "markdown",
   "metadata": {},
   "source": [
    "### Here we can see that shape of test and Merged Tests are different means it wouldn't help in predicting sentiment in the test data for that particular id. But maybe we can do some kind of EDA or Data visulization by this data."
   ]
  },
  {
   "cell_type": "code",
   "execution_count": 15,
   "metadata": {
    "execution": {
     "iopub.execute_input": "2023-07-28T07:04:38.072284Z",
     "iopub.status.busy": "2023-07-28T07:04:38.071651Z",
     "iopub.status.idle": "2023-07-28T07:04:42.670203Z",
     "shell.execute_reply": "2023-07-28T07:04:42.668936Z",
     "shell.execute_reply.started": "2023-07-28T07:04:38.072250Z"
    }
   },
   "outputs": [
    {
     "data": {
      "text/plain": [
       "soundType               0.791809\n",
       "rating                  0.743971\n",
       "ratingContents          0.743971\n",
       "boxOffice               0.723839\n",
       "distributor             0.676961\n",
       "releaseDateTheaters     0.652896\n",
       "audienceScore           0.572705\n",
       "releaseDateStreaming    0.525140\n",
       "runtimeMinutes          0.423944\n",
       "originalLanguage        0.419693\n",
       "genre                   0.413749\n",
       "reviewText              0.045342\n",
       "title                   0.000000\n",
       "sentiment               0.000000\n",
       "reviewerName            0.000000\n",
       "director                0.000000\n",
       "isFrequentReviewer      0.000000\n",
       "movieid                 0.000000\n",
       "dtype: float64"
      ]
     },
     "execution_count": 15,
     "metadata": {},
     "output_type": "execute_result"
    }
   ],
   "source": [
    "# Percentage of Null values in each column\n",
    "Null_Value_Percent_By_Column = (Merged_Data_Train.isnull().sum()/Merged_Data_Train.isnull().count()).sort_values (ascending=False)\n",
    "Null_Value_Percent_By_Column"
   ]
  },
  {
   "cell_type": "code",
   "execution_count": 16,
   "metadata": {
    "execution": {
     "iopub.execute_input": "2023-07-28T07:04:42.671946Z",
     "iopub.status.busy": "2023-07-28T07:04:42.671602Z",
     "iopub.status.idle": "2023-07-28T07:04:42.677475Z",
     "shell.execute_reply": "2023-07-28T07:04:42.675932Z",
     "shell.execute_reply.started": "2023-07-28T07:04:42.671913Z"
    }
   },
   "outputs": [],
   "source": [
    "columns_to_drop = [\"soundType\", \"rating\", \"ratingContents\", \"boxOffice\", \"distributor\", \"releaseDateTheaters\", \"audienceScore\", \"releaseDateStreaming\", \"runtimeMinutes\", \"originalLanguage\"]"
   ]
  },
  {
   "cell_type": "markdown",
   "metadata": {
    "execution": {
     "iopub.execute_input": "2023-07-13T13:44:55.886037Z",
     "iopub.status.busy": "2023-07-13T13:44:55.885353Z",
     "iopub.status.idle": "2023-07-13T13:44:55.899374Z",
     "shell.execute_reply": "2023-07-13T13:44:55.897323Z",
     "shell.execute_reply.started": "2023-07-13T13:44:55.885989Z"
    }
   },
   "source": [
    "### I should remove columns from soundType to originalLanguage, since all these columns have more than 50% of null values and the columns other two columns from my opinion are not that important. Also I think imputting missing genre with \"Other\" and missing review with \"Missing Review\" is better than dropping those columns."
   ]
  },
  {
   "cell_type": "markdown",
   "metadata": {},
   "source": [
    "### Creating pipeline to do all the things mention above"
   ]
  },
  {
   "cell_type": "code",
   "execution_count": 17,
   "metadata": {
    "execution": {
     "iopub.execute_input": "2023-07-28T07:04:42.679565Z",
     "iopub.status.busy": "2023-07-28T07:04:42.679191Z",
     "iopub.status.idle": "2023-07-28T07:04:44.441485Z",
     "shell.execute_reply": "2023-07-28T07:04:44.440368Z",
     "shell.execute_reply.started": "2023-07-28T07:04:42.679534Z"
    }
   },
   "outputs": [],
   "source": [
    "from sklearn.compose import ColumnTransformer\n",
    "from sklearn.impute import SimpleImputer\n",
    "from sklearn.pipeline import Pipeline\n",
    "from sklearn.preprocessing import OneHotEncoder\n",
    "# from sklearn.preprocessing import FunctionTransformer"
   ]
  },
  {
   "cell_type": "code",
   "execution_count": 18,
   "metadata": {
    "execution": {
     "iopub.execute_input": "2023-07-28T07:04:44.443934Z",
     "iopub.status.busy": "2023-07-28T07:04:44.442992Z",
     "iopub.status.idle": "2023-07-28T07:04:44.449992Z",
     "shell.execute_reply": "2023-07-28T07:04:44.449017Z",
     "shell.execute_reply.started": "2023-07-28T07:04:44.443901Z"
    }
   },
   "outputs": [],
   "source": [
    "pipeline = Pipeline([\n",
    "    ('preprocessing', ColumnTransformer(\n",
    "        transformers=[\n",
    "            ('drop_columns', 'drop', columns_to_drop),\n",
    "            ('impute_genre', SimpleImputer(strategy='constant', fill_value='Other'), ['genre']),\n",
    "            ('impute_reviewText', SimpleImputer(strategy='constant', fill_value='Missing'), ['reviewText']),\n",
    "        ],\n",
    "        remainder='passthrough'\n",
    "    )),\n",
    "#     ('preprocess_text', FunctionTransformer(lambda x: pd.DataFrame(preprocess_text(x), columns=['preprocessed_text']), validate=False)),\n",
    "])"
   ]
  },
  {
   "cell_type": "code",
   "execution_count": 19,
   "metadata": {
    "execution": {
     "iopub.execute_input": "2023-07-28T07:04:44.452551Z",
     "iopub.status.busy": "2023-07-28T07:04:44.451554Z",
     "iopub.status.idle": "2023-07-28T07:04:45.145254Z",
     "shell.execute_reply": "2023-07-28T07:04:45.144154Z",
     "shell.execute_reply.started": "2023-07-28T07:04:44.452521Z"
    }
   },
   "outputs": [
    {
     "data": {
      "text/html": [
       "<div>\n",
       "<style scoped>\n",
       "    .dataframe tbody tr th:only-of-type {\n",
       "        vertical-align: middle;\n",
       "    }\n",
       "\n",
       "    .dataframe tbody tr th {\n",
       "        vertical-align: top;\n",
       "    }\n",
       "\n",
       "    .dataframe thead th {\n",
       "        text-align: right;\n",
       "    }\n",
       "</style>\n",
       "<table border=\"1\" class=\"dataframe\">\n",
       "  <thead>\n",
       "    <tr style=\"text-align: right;\">\n",
       "      <th></th>\n",
       "      <th>impute_genre__genre</th>\n",
       "      <th>impute_reviewText__reviewText</th>\n",
       "      <th>remainder__movieid</th>\n",
       "      <th>remainder__reviewerName</th>\n",
       "      <th>remainder__isFrequentReviewer</th>\n",
       "      <th>remainder__sentiment</th>\n",
       "      <th>remainder__title</th>\n",
       "      <th>remainder__director</th>\n",
       "    </tr>\n",
       "  </thead>\n",
       "  <tbody>\n",
       "    <tr>\n",
       "      <th>0</th>\n",
       "      <td>Comedy, Animation, Adventure, Fantasy</td>\n",
       "      <td>Henry Selick’s first movie since 2009’s Corali...</td>\n",
       "      <td>marvelous_pirate</td>\n",
       "      <td>Benjamin Henry</td>\n",
       "      <td>False</td>\n",
       "      <td>POSITIVE</td>\n",
       "      <td>Marvelous Pirate</td>\n",
       "      <td>Bennie Basso</td>\n",
       "    </tr>\n",
       "    <tr>\n",
       "      <th>1</th>\n",
       "      <td>Comedy, Animation, Adventure, Fantasy</td>\n",
       "      <td>&amp;#91;T&amp;#93;he haphazard way this story is asse...</td>\n",
       "      <td>marvelous_pirate</td>\n",
       "      <td>Sharon Foster</td>\n",
       "      <td>False</td>\n",
       "      <td>NEGATIVE</td>\n",
       "      <td>Marvelous Pirate</td>\n",
       "      <td>Bennie Basso</td>\n",
       "    </tr>\n",
       "    <tr>\n",
       "      <th>2</th>\n",
       "      <td>Comedy, Animation, Adventure, Fantasy</td>\n",
       "      <td>The stop-motion artistry of Wendell &amp;amp; Wild...</td>\n",
       "      <td>marvelous_pirate</td>\n",
       "      <td>Melinda Dunn</td>\n",
       "      <td>False</td>\n",
       "      <td>POSITIVE</td>\n",
       "      <td>Marvelous Pirate</td>\n",
       "      <td>Bennie Basso</td>\n",
       "    </tr>\n",
       "    <tr>\n",
       "      <th>3</th>\n",
       "      <td>Comedy, Animation, Adventure, Fantasy</td>\n",
       "      <td>Wendell &amp;amp; Wild is narratively overstuffed ...</td>\n",
       "      <td>marvelous_pirate</td>\n",
       "      <td>Mr. Wayne Smith</td>\n",
       "      <td>False</td>\n",
       "      <td>NEGATIVE</td>\n",
       "      <td>Marvelous Pirate</td>\n",
       "      <td>Bennie Basso</td>\n",
       "    </tr>\n",
       "    <tr>\n",
       "      <th>4</th>\n",
       "      <td>Comedy, Animation, Adventure, Fantasy</td>\n",
       "      <td>For being about the Netherworlds&amp;#44; it&amp;#8217...</td>\n",
       "      <td>marvelous_pirate</td>\n",
       "      <td>Connor Nelson</td>\n",
       "      <td>False</td>\n",
       "      <td>POSITIVE</td>\n",
       "      <td>Marvelous Pirate</td>\n",
       "      <td>Bennie Basso</td>\n",
       "    </tr>\n",
       "  </tbody>\n",
       "</table>\n",
       "</div>"
      ],
      "text/plain": [
       "                     impute_genre__genre  \\\n",
       "0  Comedy, Animation, Adventure, Fantasy   \n",
       "1  Comedy, Animation, Adventure, Fantasy   \n",
       "2  Comedy, Animation, Adventure, Fantasy   \n",
       "3  Comedy, Animation, Adventure, Fantasy   \n",
       "4  Comedy, Animation, Adventure, Fantasy   \n",
       "\n",
       "                       impute_reviewText__reviewText remainder__movieid  \\\n",
       "0  Henry Selick’s first movie since 2009’s Corali...   marvelous_pirate   \n",
       "1  &#91;T&#93;he haphazard way this story is asse...   marvelous_pirate   \n",
       "2  The stop-motion artistry of Wendell &amp; Wild...   marvelous_pirate   \n",
       "3  Wendell &amp; Wild is narratively overstuffed ...   marvelous_pirate   \n",
       "4  For being about the Netherworlds&#44; it&#8217...   marvelous_pirate   \n",
       "\n",
       "  remainder__reviewerName remainder__isFrequentReviewer remainder__sentiment  \\\n",
       "0          Benjamin Henry                         False             POSITIVE   \n",
       "1           Sharon Foster                         False             NEGATIVE   \n",
       "2            Melinda Dunn                         False             POSITIVE   \n",
       "3         Mr. Wayne Smith                         False             NEGATIVE   \n",
       "4           Connor Nelson                         False             POSITIVE   \n",
       "\n",
       "   remainder__title remainder__director  \n",
       "0  Marvelous Pirate        Bennie Basso  \n",
       "1  Marvelous Pirate        Bennie Basso  \n",
       "2  Marvelous Pirate        Bennie Basso  \n",
       "3  Marvelous Pirate        Bennie Basso  \n",
       "4  Marvelous Pirate        Bennie Basso  "
      ]
     },
     "execution_count": 19,
     "metadata": {},
     "output_type": "execute_result"
    }
   ],
   "source": [
    "# Fit and transform the training data using the pipeline\n",
    "transformed_data = pipeline.fit_transform(Merged_Data_Train)\n",
    "\n",
    "# Convert the transformed data back to a DataFrame\n",
    "transformed_df = pd.DataFrame(transformed_data, columns=pipeline.named_steps['preprocessing'].get_feature_names_out())\n",
    "\n",
    "# View the transformed DataFrame\n",
    "transformed_df.head()"
   ]
  },
  {
   "cell_type": "code",
   "execution_count": 20,
   "metadata": {
    "execution": {
     "iopub.execute_input": "2023-07-28T07:04:45.155160Z",
     "iopub.status.busy": "2023-07-28T07:04:45.154679Z",
     "iopub.status.idle": "2023-07-28T07:04:46.511113Z",
     "shell.execute_reply": "2023-07-28T07:04:46.509713Z",
     "shell.execute_reply.started": "2023-07-28T07:04:45.155126Z"
    }
   },
   "outputs": [
    {
     "name": "stdout",
     "output_type": "stream",
     "text": [
      "<class 'pandas.core.frame.DataFrame'>\n",
      "RangeIndex: 525277 entries, 0 to 525276\n",
      "Data columns (total 8 columns):\n",
      " #   Column                         Non-Null Count   Dtype \n",
      "---  ------                         --------------   ----- \n",
      " 0   impute_genre__genre            525277 non-null  object\n",
      " 1   impute_reviewText__reviewText  525277 non-null  object\n",
      " 2   remainder__movieid             525277 non-null  object\n",
      " 3   remainder__reviewerName        525277 non-null  object\n",
      " 4   remainder__isFrequentReviewer  525277 non-null  object\n",
      " 5   remainder__sentiment           525277 non-null  object\n",
      " 6   remainder__title               525277 non-null  object\n",
      " 7   remainder__director            525277 non-null  object\n",
      "dtypes: object(8)\n",
      "memory usage: 32.1+ MB\n",
      "None\n"
     ]
    }
   ],
   "source": [
    "print(transformed_df.info())"
   ]
  },
  {
   "cell_type": "code",
   "execution_count": 21,
   "metadata": {
    "execution": {
     "iopub.execute_input": "2023-07-28T07:04:46.512995Z",
     "iopub.status.busy": "2023-07-28T07:04:46.512566Z",
     "iopub.status.idle": "2023-07-28T07:04:47.874484Z",
     "shell.execute_reply": "2023-07-28T07:04:47.873325Z",
     "shell.execute_reply.started": "2023-07-28T07:04:46.512959Z"
    }
   },
   "outputs": [
    {
     "name": "stdout",
     "output_type": "stream",
     "text": [
      "<class 'pandas.core.frame.DataFrame'>\n",
      "RangeIndex: 525277 entries, 0 to 525276\n",
      "Data columns (total 8 columns):\n",
      " #   Column              Non-Null Count   Dtype \n",
      "---  ------              --------------   ----- \n",
      " 0   genre               525277 non-null  object\n",
      " 1   reviewText          525277 non-null  object\n",
      " 2   movieid             525277 non-null  object\n",
      " 3   reviewerName        525277 non-null  object\n",
      " 4   isFrequentReviewer  525277 non-null  object\n",
      " 5   sentiment           525277 non-null  object\n",
      " 6   title               525277 non-null  object\n",
      " 7   director            525277 non-null  object\n",
      "dtypes: object(8)\n",
      "memory usage: 32.1+ MB\n",
      "None\n"
     ]
    }
   ],
   "source": [
    "# Get the transformed DataFrame\n",
    "transformed_df = pd.DataFrame(transformed_data, columns=pipeline.named_steps['preprocessing'].get_feature_names_out())\n",
    "\n",
    "# Remove everything before \"__\" in column names\n",
    "transformed_df.columns = [col.split('__')[-1] for col in transformed_df.columns]\n",
    "\n",
    "# Display the updated DataFrame\n",
    "print(transformed_df.info())"
   ]
  },
  {
   "cell_type": "markdown",
   "metadata": {},
   "source": [
    "### Creating Visualisation targeting sentiment column"
   ]
  },
  {
   "cell_type": "code",
   "execution_count": 22,
   "metadata": {
    "execution": {
     "iopub.execute_input": "2023-07-28T07:04:47.876102Z",
     "iopub.status.busy": "2023-07-28T07:04:47.875769Z",
     "iopub.status.idle": "2023-07-28T07:04:48.475174Z",
     "shell.execute_reply": "2023-07-28T07:04:48.473918Z",
     "shell.execute_reply.started": "2023-07-28T07:04:47.876061Z"
    }
   },
   "outputs": [
    {
     "name": "stdout",
     "output_type": "stream",
     "text": [
      "genre                   1339\n",
      "reviewText            155072\n",
      "movieid                16812\n",
      "reviewerName            4482\n",
      "isFrequentReviewer         2\n",
      "sentiment                  2\n",
      "title                  16812\n",
      "director               13038\n",
      "dtype: int64\n"
     ]
    }
   ],
   "source": [
    "# This will give number unique values in each columns\n",
    "unique_counts = transformed_df.nunique()\n",
    "print(unique_counts)"
   ]
  },
  {
   "cell_type": "code",
   "execution_count": 23,
   "metadata": {
    "execution": {
     "iopub.execute_input": "2023-07-28T07:04:48.477102Z",
     "iopub.status.busy": "2023-07-28T07:04:48.476618Z",
     "iopub.status.idle": "2023-07-28T07:04:48.564633Z",
     "shell.execute_reply": "2023-07-28T07:04:48.563353Z",
     "shell.execute_reply.started": "2023-07-28T07:04:48.477040Z"
    }
   },
   "outputs": [
    {
     "name": "stdout",
     "output_type": "stream",
     "text": [
      "escape_the_terminator_tyler_durden_astonish                259836\n",
      "fantasy_forrest_gump_intrigue                                1225\n",
      "neo_holly_golightly_luke_skywalker                            803\n",
      "terminator_e.t._ellen_ripley                                  705\n",
      "fortune_phenomenal_don_vito_corleone                          686\n",
      "                                                            ...  \n",
      "enthralling_silent_frodo_baggins_ellen_ripley                   1\n",
      "riddle_trinity                                                  1\n",
      "whimsical_spectacular_frodo_baggins_edward_scissorhands         1\n",
      "norman_bates_sherlock_holmes_darth_vader_starlight              1\n",
      "forrest_gump_fantasy_epic                                       1\n",
      "Name: movieid, Length: 16812, dtype: int64\n"
     ]
    }
   ],
   "source": [
    "column_unique_counts = transformed_df['movieid'].value_counts()\n",
    "print(column_unique_counts)"
   ]
  },
  {
   "cell_type": "code",
   "execution_count": 24,
   "metadata": {
    "execution": {
     "iopub.execute_input": "2023-07-28T07:04:48.566575Z",
     "iopub.status.busy": "2023-07-28T07:04:48.566135Z",
     "iopub.status.idle": "2023-07-28T07:04:48.659653Z",
     "shell.execute_reply": "2023-07-28T07:04:48.658505Z",
     "shell.execute_reply.started": "2023-07-28T07:04:48.566531Z"
    }
   },
   "outputs": [
    {
     "name": "stdout",
     "output_type": "stream",
     "text": [
      "Joseph Brooks        209601\n",
      "Augusta Daniel         2889\n",
      "Billy Diaz             1009\n",
      "Edna Wheeler            986\n",
      "Stephanie Russell       798\n",
      "                      ...  \n",
      "Scott Monaghan            1\n",
      "Georgiana Negron          1\n",
      "Marcus Reyna              1\n",
      "Dewey Winograd            1\n",
      "Tawanda Ballard           1\n",
      "Name: director, Length: 13038, dtype: int64\n"
     ]
    }
   ],
   "source": [
    "column_unique_counts = transformed_df['director'].value_counts()\n",
    "print(column_unique_counts)"
   ]
  },
  {
   "cell_type": "code",
   "execution_count": 25,
   "metadata": {
    "execution": {
     "iopub.execute_input": "2023-07-28T07:04:48.661852Z",
     "iopub.status.busy": "2023-07-28T07:04:48.661132Z",
     "iopub.status.idle": "2023-07-28T07:04:48.750757Z",
     "shell.execute_reply": "2023-07-28T07:04:48.749466Z",
     "shell.execute_reply.started": "2023-07-28T07:04:48.661820Z"
    }
   },
   "outputs": [
    {
     "name": "stdout",
     "output_type": "stream",
     "text": [
      "Other                                               217335\n",
      "Drama                                                58980\n",
      "Documentary                                          19904\n",
      "Comedy                                               19814\n",
      "Comedy, Drama                                        15757\n",
      "                                                     ...  \n",
      "Holiday, Comedy, Short                                   1\n",
      "Action, Horror, Sci-fi                                   1\n",
      "Action, Romance, Drama                                   1\n",
      "Sci-fi, Action, Anime                                    1\n",
      "Action, Crime, Drama, Horror, Mystery & thriller         1\n",
      "Name: genre, Length: 1339, dtype: int64\n"
     ]
    }
   ],
   "source": [
    "column_unique_counts = transformed_df['genre'].value_counts()\n",
    "print(column_unique_counts)"
   ]
  },
  {
   "cell_type": "code",
   "execution_count": 26,
   "metadata": {
    "execution": {
     "iopub.execute_input": "2023-07-28T07:04:48.752785Z",
     "iopub.status.busy": "2023-07-28T07:04:48.752362Z",
     "iopub.status.idle": "2023-07-28T07:04:49.100550Z",
     "shell.execute_reply": "2023-07-28T07:04:49.099332Z",
     "shell.execute_reply.started": "2023-07-28T07:04:48.752756Z"
    }
   },
   "outputs": [],
   "source": [
    "import seaborn as sns\n",
    "import matplotlib.pyplot as plt"
   ]
  },
  {
   "cell_type": "code",
   "execution_count": 27,
   "metadata": {
    "execution": {
     "iopub.execute_input": "2023-07-28T07:04:49.103631Z",
     "iopub.status.busy": "2023-07-28T07:04:49.103300Z",
     "iopub.status.idle": "2023-07-28T07:04:49.108149Z",
     "shell.execute_reply": "2023-07-28T07:04:49.106987Z",
     "shell.execute_reply.started": "2023-07-28T07:04:49.103603Z"
    }
   },
   "outputs": [],
   "source": [
    "# ##### Count Plot\n",
    "# sns.set(style=\"darkgrid\")\n",
    "# plt.figure(figsize=(12, 6))\n",
    "# #sns.countplot(data=transformed_df, x=\"movieid\", hue=\"sentiment\")\n",
    "# sns.countplot(data=transformed_df, x=\"movieid\")\n",
    "# plt.title(\"Count Plot\")\n",
    "# plt.show()"
   ]
  },
  {
   "cell_type": "markdown",
   "metadata": {},
   "source": [
    "#### This code is taking to long so it is better to draw graph on first 25 or 50 categories instead of taking all."
   ]
  },
  {
   "cell_type": "code",
   "execution_count": 28,
   "metadata": {
    "execution": {
     "iopub.execute_input": "2023-07-28T07:04:49.109900Z",
     "iopub.status.busy": "2023-07-28T07:04:49.109471Z",
     "iopub.status.idle": "2023-07-28T07:04:50.799151Z",
     "shell.execute_reply": "2023-07-28T07:04:50.797841Z",
     "shell.execute_reply.started": "2023-07-28T07:04:49.109860Z"
    }
   },
   "outputs": [
    {
     "data": {
      "image/png": "[encoded data removed]",
      "text/plain": [
       "<Figure size 1200x600 with 1 Axes>"
      ]
     },
     "metadata": {},
     "output_type": "display_data"
    }
   ],
   "source": [
    "# Select the top 25 movies based on count\n",
    "top_movies = transformed_df['movieid'].value_counts().nlargest(25).index\n",
    "\n",
    "# Filter the dataframe for the top 25 movies\n",
    "filtered_df = transformed_df[transformed_df['movieid'].isin(top_movies)]\n",
    "\n",
    "# Count Plot\n",
    "sns.set(style=\"darkgrid\")\n",
    "plt.figure(figsize=(12, 6))\n",
    "sns.countplot(data=filtered_df, x=\"movieid\", hue=\"sentiment\")\n",
    "plt.title(\"Count Plot\")\n",
    "plt.xticks(rotation=90)\n",
    "plt.show()"
   ]
  },
  {
   "cell_type": "markdown",
   "metadata": {},
   "source": [
    "### We can not use merge data for model building because of miss match in the shape of test data before and after merging it with movie column.\n",
    "### We also can't do EDA on this data since most the values are missing in almost all the columns.\n",
    "### We can't even do some data visualization because of there are some many categories in the each column. \n",
    "### It is almost impossible to visualize them it take too much time. and some how it we visulise only top 25 or 50 values it is not giving any usefull information.\n",
    "### We can finally conclude that we can't have any benifite by merging movies to train and test and it is better to use only train and test for EDA, Visulisation and model builiding."
   ]
  },
  {
   "cell_type": "markdown",
   "metadata": {},
   "source": [
    "# EDA and Visulization on train data"
   ]
  },
  {
   "cell_type": "code",
   "execution_count": 29,
   "metadata": {
    "execution": {
     "iopub.execute_input": "2023-07-28T07:04:50.800817Z",
     "iopub.status.busy": "2023-07-28T07:04:50.800300Z",
     "iopub.status.idle": "2023-07-28T07:04:51.241886Z",
     "shell.execute_reply": "2023-07-28T07:04:51.240888Z",
     "shell.execute_reply.started": "2023-07-28T07:04:50.800789Z"
    }
   },
   "outputs": [
    {
     "data": {
      "text/plain": [
       "reviewText            0.039611\n",
       "movieid               0.000000\n",
       "reviewerName          0.000000\n",
       "isFrequentReviewer    0.000000\n",
       "sentiment             0.000000\n",
       "dtype: float64"
      ]
     },
     "execution_count": 29,
     "metadata": {},
     "output_type": "execute_result"
    }
   ],
   "source": [
    "# Percentage of Null values in each column\n",
    "Null_Percent_In_Train = (Train_Data.isnull().sum() / Train_Data.isnull().count()).sort_values(ascending=False)\n",
    "Null_Percent_In_Train"
   ]
  },
  {
   "cell_type": "code",
   "execution_count": 30,
   "metadata": {
    "execution": {
     "iopub.execute_input": "2023-07-28T07:04:51.243346Z",
     "iopub.status.busy": "2023-07-28T07:04:51.242988Z",
     "iopub.status.idle": "2023-07-28T07:04:51.365483Z",
     "shell.execute_reply": "2023-07-28T07:04:51.364395Z",
     "shell.execute_reply.started": "2023-07-28T07:04:51.243318Z"
    }
   },
   "outputs": [
    {
     "data": {
      "text/plain": [
       "reviewText      0.045376\n",
       "movieid         0.000000\n",
       "reviewerName    0.000000\n",
       "isTopCritic     0.000000\n",
       "dtype: float64"
      ]
     },
     "execution_count": 30,
     "metadata": {},
     "output_type": "execute_result"
    }
   ],
   "source": [
    "# Percentage of Null values in each column\n",
    "Null_Percent_In_Test = (Test_Data.isnull().sum() / Test_Data.isnull().count()).sort_values(ascending=False)\n",
    "Null_Percent_In_Test"
   ]
  },
  {
   "cell_type": "markdown",
   "metadata": {},
   "source": [
    "#### Here in train and test there is 4% of data have the Null Values in reviewText column. Ideally I would have removed them. because I think just by looking at this column, I can predict sentiment. But If I removed these values than shape of the test file will change, and also order of summision file will also change this won't give proper result for kaggle submission. \n",
    "#### Also I would not have removed this values if some kind numeric rate were to be present in the data which might have removed\n",
    "#### some important information but here in this case removing 4% would have any effect insted of messing kaggle submision."
   ]
  },
  {
   "cell_type": "code",
   "execution_count": 31,
   "metadata": {
    "execution": {
     "iopub.execute_input": "2023-07-28T07:04:51.367225Z",
     "iopub.status.busy": "2023-07-28T07:04:51.366768Z",
     "iopub.status.idle": "2023-07-28T07:04:51.372698Z",
     "shell.execute_reply": "2023-07-28T07:04:51.371677Z",
     "shell.execute_reply.started": "2023-07-28T07:04:51.367195Z"
    }
   },
   "outputs": [],
   "source": [
    "# Changing name \"isTopCritic\" to \"isFrequentReviewer\" in the test data set.\n",
    "#df.rename(columns={'old_column_name': 'new_column_name'}, inplace=True)\n",
    "\n",
    "Test_Data.rename(columns={'isTopCritic': 'isFrequentReviewer'}, inplace=True)"
   ]
  },
  {
   "cell_type": "code",
   "execution_count": 32,
   "metadata": {
    "execution": {
     "iopub.execute_input": "2023-07-28T07:04:51.374500Z",
     "iopub.status.busy": "2023-07-28T07:04:51.374214Z",
     "iopub.status.idle": "2023-07-28T07:04:51.421352Z",
     "shell.execute_reply": "2023-07-28T07:04:51.420340Z",
     "shell.execute_reply.started": "2023-07-28T07:04:51.374476Z"
    }
   },
   "outputs": [],
   "source": [
    "# Imputing ReviewTest Null values to the \"Missing Review\" text for both test and train data set\n",
    "\n",
    "Train_Data['reviewText'].fillna(\"Missing Review\", inplace=True)\n",
    "Test_Data['reviewText'].fillna(\"Missing Review\", inplace=True)"
   ]
  },
  {
   "cell_type": "code",
   "execution_count": 33,
   "metadata": {
    "execution": {
     "iopub.execute_input": "2023-07-28T07:04:51.423059Z",
     "iopub.status.busy": "2023-07-28T07:04:51.422717Z",
     "iopub.status.idle": "2023-07-28T07:04:51.647341Z",
     "shell.execute_reply": "2023-07-28T07:04:51.646345Z",
     "shell.execute_reply.started": "2023-07-28T07:04:51.423032Z"
    }
   },
   "outputs": [
    {
     "data": {
      "text/plain": [
       "movieid               0\n",
       "reviewerName          0\n",
       "isFrequentReviewer    0\n",
       "reviewText            0\n",
       "sentiment             0\n",
       "dtype: int64"
      ]
     },
     "execution_count": 33,
     "metadata": {},
     "output_type": "execute_result"
    }
   ],
   "source": [
    "Train_Data.isnull().sum()"
   ]
  },
  {
   "cell_type": "code",
   "execution_count": 34,
   "metadata": {
    "execution": {
     "iopub.execute_input": "2023-07-28T07:04:51.649705Z",
     "iopub.status.busy": "2023-07-28T07:04:51.649249Z",
     "iopub.status.idle": "2023-07-28T07:04:51.714943Z",
     "shell.execute_reply": "2023-07-28T07:04:51.713730Z",
     "shell.execute_reply.started": "2023-07-28T07:04:51.649673Z"
    }
   },
   "outputs": [
    {
     "data": {
      "text/plain": [
       "movieid               0\n",
       "reviewerName          0\n",
       "isFrequentReviewer    0\n",
       "reviewText            0\n",
       "dtype: int64"
      ]
     },
     "execution_count": 34,
     "metadata": {},
     "output_type": "execute_result"
    }
   ],
   "source": [
    "Test_Data.isnull().sum()"
   ]
  },
  {
   "cell_type": "code",
   "execution_count": 35,
   "metadata": {
    "execution": {
     "iopub.execute_input": "2023-07-28T07:04:51.716686Z",
     "iopub.status.busy": "2023-07-28T07:04:51.716223Z",
     "iopub.status.idle": "2023-07-28T07:04:51.900023Z",
     "shell.execute_reply": "2023-07-28T07:04:51.898960Z",
     "shell.execute_reply.started": "2023-07-28T07:04:51.716655Z"
    }
   },
   "outputs": [
    {
     "name": "stdout",
     "output_type": "stream",
     "text": [
      "movieid                16812\n",
      "reviewerName            4482\n",
      "isFrequentReviewer         2\n",
      "reviewText            155072\n",
      "sentiment                  2\n",
      "dtype: int64\n"
     ]
    }
   ],
   "source": [
    "# This will give number unique values in each columns\n",
    "unique_counts_train = Train_Data.nunique()\n",
    "print(unique_counts_train)"
   ]
  },
  {
   "cell_type": "code",
   "execution_count": 36,
   "metadata": {
    "execution": {
     "iopub.execute_input": "2023-07-28T07:04:51.903601Z",
     "iopub.status.busy": "2023-07-28T07:04:51.902998Z",
     "iopub.status.idle": "2023-07-28T07:04:51.965317Z",
     "shell.execute_reply": "2023-07-28T07:04:51.963830Z",
     "shell.execute_reply.started": "2023-07-28T07:04:51.903567Z"
    }
   },
   "outputs": [
    {
     "name": "stdout",
     "output_type": "stream",
     "text": [
      "movieid               16786\n",
      "reviewerName           4495\n",
      "isFrequentReviewer        2\n",
      "reviewText            52687\n",
      "dtype: int64\n"
     ]
    }
   ],
   "source": [
    "# This will give number unique values in each columns\n",
    "unique_counts_test = Test_Data.nunique()\n",
    "print(unique_counts_test)"
   ]
  },
  {
   "cell_type": "markdown",
   "metadata": {},
   "source": [
    "#### Here also there are thousands of categories in for each column, same thing will happen which happened to the mereged dataset.\n",
    "#### Still we can plot count plot is frequentReviewer in train and test data set.\n",
    "#### we can also check if train data is balanced by sentiment column.\n",
    "#### Maybe we can try dividing count plot by reviewerName column by color like stacked graph"
   ]
  },
  {
   "cell_type": "code",
   "execution_count": 37,
   "metadata": {
    "execution": {
     "iopub.execute_input": "2023-07-28T07:04:51.966871Z",
     "iopub.status.busy": "2023-07-28T07:04:51.966517Z",
     "iopub.status.idle": "2023-07-28T07:04:52.456218Z",
     "shell.execute_reply": "2023-07-28T07:04:52.455111Z",
     "shell.execute_reply.started": "2023-07-28T07:04:51.966843Z"
    }
   },
   "outputs": [
    {
     "data": {
      "image/png": "[encoded data removed]",
      "text/plain": [
       "<Figure size 1200x600 with 1 Axes>"
      ]
     },
     "metadata": {},
     "output_type": "display_data"
    }
   ],
   "source": [
    "# Count Plot for sentiment of train data\n",
    "\n",
    "plt.figure(figsize=(12, 6))\n",
    "#sns.countplot(data= Train_Data, x=\"sentiment\", hue=\"reviewerName\")\n",
    "sns.countplot(data= Train_Data, x=\"sentiment\")\n",
    "plt.title(\"Count Plot for sentiment of train data\")\n",
    "plt.show()"
   ]
  },
  {
   "cell_type": "markdown",
   "metadata": {},
   "source": [
    "### Here We can that data is imbalence there are more positive reviews than negative reviews. \n",
    "### So while dividing data into train and validation set we need to take the special care to mentain this distribution.\n",
    "### So that we have representative of both positive and negative values while training the model."
   ]
  },
  {
   "cell_type": "code",
   "execution_count": 38,
   "metadata": {
    "execution": {
     "iopub.execute_input": "2023-07-28T07:04:52.458345Z",
     "iopub.status.busy": "2023-07-28T07:04:52.457889Z",
     "iopub.status.idle": "2023-07-28T07:04:52.763890Z",
     "shell.execute_reply": "2023-07-28T07:04:52.762526Z",
     "shell.execute_reply.started": "2023-07-28T07:04:52.458303Z"
    }
   },
   "outputs": [
    {
     "data": {
      "image/png": "[encoded data removed]",
      "text/plain": [
       "<Figure size 1200x600 with 1 Axes>"
      ]
     },
     "metadata": {},
     "output_type": "display_data"
    }
   ],
   "source": [
    "# Count Plot for sentiment of train data\n",
    "\n",
    "plt.figure(figsize=(12, 6))\n",
    "sns.countplot(data= Train_Data, x=\"isFrequentReviewer\")\n",
    "plt.title(\"Count Plot for frequent reviewer of train data\")\n",
    "plt.show()"
   ]
  },
  {
   "cell_type": "code",
   "execution_count": 39,
   "metadata": {
    "execution": {
     "iopub.execute_input": "2023-07-28T07:04:52.765845Z",
     "iopub.status.busy": "2023-07-28T07:04:52.765490Z",
     "iopub.status.idle": "2023-07-28T07:04:53.114547Z",
     "shell.execute_reply": "2023-07-28T07:04:53.113453Z",
     "shell.execute_reply.started": "2023-07-28T07:04:52.765815Z"
    }
   },
   "outputs": [
    {
     "data": {
      "image/png": "[encoded data removed]",
      "text/plain": [
       "<Figure size 1200x600 with 1 Axes>"
      ]
     },
     "metadata": {},
     "output_type": "display_data"
    }
   ],
   "source": [
    "# Count Plot for sentiment of train data\n",
    "\n",
    "plt.figure(figsize=(12, 6))\n",
    "sns.countplot(data= Test_Data, x=\"isFrequentReviewer\")\n",
    "plt.title(\"Count Plot for frequent reviewer of test data\")\n",
    "plt.show()"
   ]
  },
  {
   "cell_type": "markdown",
   "metadata": {},
   "source": [
    "### isFrequentReviewer column follows same distribution for train and test datasets"
   ]
  },
  {
   "cell_type": "markdown",
   "metadata": {},
   "source": [
    "## Data Preproseing or transformation of \"reviewText\" column in both train and test"
   ]
  },
  {
   "cell_type": "markdown",
   "metadata": {},
   "source": [
    "#### We have already imputed null values in the review text column.\n",
    "#### Now we need to convert this column into numeric values so that we can build the model on this data set."
   ]
  },
  {
   "cell_type": "markdown",
   "metadata": {},
   "source": [
    "# Preprocessing data for model building"
   ]
  },
  {
   "cell_type": "code",
   "execution_count": 40,
   "metadata": {
    "execution": {
     "iopub.execute_input": "2023-07-28T07:04:53.116604Z",
     "iopub.status.busy": "2023-07-28T07:04:53.116221Z",
     "iopub.status.idle": "2023-07-28T07:04:54.006304Z",
     "shell.execute_reply": "2023-07-28T07:04:54.004817Z",
     "shell.execute_reply.started": "2023-07-28T07:04:53.116576Z"
    }
   },
   "outputs": [
    {
     "name": "stdout",
     "output_type": "stream",
     "text": [
      "Train_Data shape  (162758, 5)\n"
     ]
    }
   ],
   "source": [
    "# %%time\n",
    "\n",
    "import pandas as pd\n",
    "import numpy as np\n",
    "from sklearn.feature_extraction.text import TfidfVectorizer\n",
    "from sklearn.model_selection import train_test_split\n",
    "from sklearn.preprocessing import LabelEncoder\n",
    "from sklearn.impute import SimpleImputer\n",
    "from sklearn.pipeline import Pipeline\n",
    "\n",
    "# Load the train and test data frames\n",
    "Train_Data = pd.read_csv('/kaggle/input/sentiment-prediction-on-movie-reviews/train.csv')\n",
    "Test_Data = pd.read_csv('/kaggle/input/sentiment-prediction-on-movie-reviews/test.csv')\n",
    "\n",
    "Test_Data.rename(columns={'isTopCritic': 'isFrequentReviewer'}, inplace=True)\n",
    "\n",
    "print(\"Train_Data shape \", Train_Data.shape)\n",
    "\n",
    "# Combine train and test data\n",
    "combined_data = pd.concat([Train_Data, Test_Data], axis=0)\n",
    "\n",
    "# # Using Pipeline to do imputation in the data.\n",
    "# # I haven't use this technic since only thing I want change in the data is to impute missing values.\n",
    "# # Just to that using pipeline was not that much feasible because after applying pipeline,\n",
    "# # it's data type, column name, data sturcture,etc things changes which extra trouble for just changing one column.\n",
    "\n",
    "# imputer = SimpleImputer(strategy='constant', fill_value='Missing Review')\n",
    "# pipeline = Pipeline([('imputer', imputer)])\n",
    "# combined_data = pipeline.fit_transform(combined_data)\n",
    "# Train_Data = pipeline.fit_transform(Train_Data)\n",
    "# Test_Data = pipeline.fit_transform(Test_Data)\n",
    "# # Convert numpy.ndarray to pandas DataFrame\n",
    "# combined_data = pd.DataFrame(combined_data)\n",
    "# combined_data.head()\n"
   ]
  },
  {
   "cell_type": "code",
   "execution_count": 41,
   "metadata": {
    "execution": {
     "iopub.execute_input": "2023-07-28T07:04:54.008745Z",
     "iopub.status.busy": "2023-07-28T07:04:54.008339Z",
     "iopub.status.idle": "2023-07-28T07:05:01.172159Z",
     "shell.execute_reply": "2023-07-28T07:05:01.170906Z",
     "shell.execute_reply.started": "2023-07-28T07:04:54.008712Z"
    }
   },
   "outputs": [],
   "source": [
    "# Fill missing values in the reviewText column\n",
    "combined_data['reviewText'].fillna(\"Missing Review\", inplace=True)\n",
    "\n",
    "# Imputing ReviewTest Null values to the \"Missing Review\" text for both test and train data set\n",
    "Train_Data['reviewText'].fillna(\"Missing Review\", inplace=True)\n",
    "Test_Data['reviewText'].fillna(\"Missing Review\", inplace=True)\n",
    "\n",
    "# Select the columns to be used for sentiment prediction\n",
    "text_columns = ['reviewText']  # Add all relevant text columns\n",
    "non_text_columns = [\"movieid\", \"reviewerName\", \"isFrequentReviewer\"]  # Add all relevant non-text columns\n",
    "\n",
    "label_encoder = LabelEncoder()\n",
    "\n",
    "# Perform label encoding for non-text columns\n",
    "for column in non_text_columns:\n",
    "    combined_data[column] = label_encoder.fit_transform(combined_data[column])\n",
    "\n",
    "# Create TF-IDF vectorizer for text columns\n",
    "vectorizer = TfidfVectorizer(max_features=25000, stop_words='english')\n",
    "# vectorizer = TfidfVectorizer(stop_words='english')\n",
    "# This line gives momory error - Unable to allocate 88.0 GiB for an array with shape (162758, 72554) and data type float64\n",
    "combined_text_vectors = vectorizer.fit_transform(combined_data['reviewText'])\n",
    "\n",
    "# Best thing about Tfidfvectorizer that we don't have to remove special character and punctuations it will remove them by default\n",
    "# also stop_words argument will remove stop words from the feature column and max_feature will select top n most frequent features.\n",
    "\n",
    "# # Split back into train and test data (Neeeded only for LDA)\n",
    "# X_train_text_vectors = combined_text_vectors[:len(Train_Data)]\n",
    "# X_test_text_vectors = combined_text_vectors[len(Train_Data):]"
   ]
  },
  {
   "cell_type": "markdown",
   "metadata": {},
   "source": [
    "## Using PCA or LDA or SVD here"
   ]
  },
  {
   "cell_type": "code",
   "execution_count": 42,
   "metadata": {
    "execution": {
     "iopub.execute_input": "2023-07-28T07:05:01.173794Z",
     "iopub.status.busy": "2023-07-28T07:05:01.173469Z",
     "iopub.status.idle": "2023-07-28T07:05:01.179284Z",
     "shell.execute_reply": "2023-07-28T07:05:01.178139Z",
     "shell.execute_reply.started": "2023-07-28T07:05:01.173768Z"
    }
   },
   "outputs": [],
   "source": [
    "# # Use PCA for dimensionality reduction\n",
    "# from sklearn.decomposition import PCA\n",
    "# pca = PCA(n_components=0.95, random_state=5)\n",
    "# X_train_pca = pca.fit_transform(X_train_text_vectors)\n",
    "# # This code gives error saying that - TypeError: PCA does not support sparse input. See TruncatedSVD for a possible alternative.\n",
    "\n",
    "# If I change X_train_vectors data type from sparse to normal data frame then i think size matrix will also grow significantly.\n",
    "# X_sparse with shape (1000, 10000), representing 1000 samples and 10000 features (words). If the sparsity of the matrix \n",
    "# is around 99% (i.e., most of the entries are zeros), the original sparse matrix may take only a few megabytes of memory. "
   ]
  },
  {
   "cell_type": "code",
   "execution_count": 43,
   "metadata": {
    "execution": {
     "iopub.execute_input": "2023-07-28T07:05:01.180837Z",
     "iopub.status.busy": "2023-07-28T07:05:01.180548Z",
     "iopub.status.idle": "2023-07-28T07:16:32.506498Z",
     "shell.execute_reply": "2023-07-28T07:16:32.505294Z",
     "shell.execute_reply.started": "2023-07-28T07:05:01.180812Z"
    }
   },
   "outputs": [
    {
     "name": "stdout",
     "output_type": "stream",
     "text": [
      "CPU times: user 27min 29s, sys: 2min 6s, total: 29min 35s\n",
      "Wall time: 11min 31s\n"
     ]
    }
   ],
   "source": [
    "%%time\n",
    "\n",
    "# Use TruncatedSVD for dimensionality reduction\n",
    "from sklearn.decomposition import TruncatedSVD\n",
    "svd = TruncatedSVD(n_components=2500, random_state=5)  \n",
    "combined_text_vectors_svd = svd.fit_transform(combined_text_vectors)"
   ]
  },
  {
   "cell_type": "code",
   "execution_count": 44,
   "metadata": {
    "execution": {
     "iopub.execute_input": "2023-07-28T07:16:32.508823Z",
     "iopub.status.busy": "2023-07-28T07:16:32.508300Z",
     "iopub.status.idle": "2023-07-28T07:16:32.518822Z",
     "shell.execute_reply": "2023-07-28T07:16:32.517647Z",
     "shell.execute_reply.started": "2023-07-28T07:16:32.508783Z"
    }
   },
   "outputs": [
    {
     "data": {
      "text/plain": [
       "(218073, 25000)"
      ]
     },
     "execution_count": 44,
     "metadata": {},
     "output_type": "execute_result"
    }
   ],
   "source": [
    "combined_text_vectors.shape"
   ]
  },
  {
   "cell_type": "code",
   "execution_count": 45,
   "metadata": {
    "execution": {
     "iopub.execute_input": "2023-07-28T07:16:32.521024Z",
     "iopub.status.busy": "2023-07-28T07:16:32.520595Z",
     "iopub.status.idle": "2023-07-28T07:16:32.531383Z",
     "shell.execute_reply": "2023-07-28T07:16:32.530232Z",
     "shell.execute_reply.started": "2023-07-28T07:16:32.520995Z"
    }
   },
   "outputs": [
    {
     "data": {
      "text/plain": [
       "(218073, 2500)"
      ]
     },
     "execution_count": 45,
     "metadata": {},
     "output_type": "execute_result"
    }
   ],
   "source": [
    "combined_text_vectors_svd.shape"
   ]
  },
  {
   "cell_type": "code",
   "execution_count": 46,
   "metadata": {
    "execution": {
     "iopub.execute_input": "2023-07-28T07:16:32.533744Z",
     "iopub.status.busy": "2023-07-28T07:16:32.533311Z",
     "iopub.status.idle": "2023-07-28T07:16:32.546343Z",
     "shell.execute_reply": "2023-07-28T07:16:32.545256Z",
     "shell.execute_reply.started": "2023-07-28T07:16:32.533709Z"
    }
   },
   "outputs": [],
   "source": [
    "# # Using LDA Here\n",
    "# from sklearn.decomposition import LatentDirichletAllocation as LDA\n",
    "\n",
    "# # Assuming you have the labels in the 'label' column of X_train\n",
    "# y_train = Train_Data['sentiment']\n",
    "\n",
    "# # Initialize and fit LDA\n",
    "# lda = LDA(n_components=1000, random_state=5)  # Specify the number of topics (components)\n",
    "# X_train_lda = lda.fit_transform(X_train_text_vectors, y_train)\n",
    "\n",
    "# # But problem with this is that LDA doesn't actully select top 1000 features but it gives project of Train data on 1000 axis\n",
    "# # we don't know the y_test so we not be able to do projection of Test_Data. - Worng only while finding the lda matrix we need labels (maybe)\n",
    "\n",
    "# X_test_lda = lda.transform(X_test_text_vectors)\n",
    "\n",
    "# # I think I shouldn't LDA it doesn't seems logical. and also This part is taking too much time to run and understand. "
   ]
  },
  {
   "cell_type": "code",
   "execution_count": 47,
   "metadata": {
    "execution": {
     "iopub.execute_input": "2023-07-28T07:16:32.548179Z",
     "iopub.status.busy": "2023-07-28T07:16:32.547792Z",
     "iopub.status.idle": "2023-07-28T07:16:44.973455Z",
     "shell.execute_reply": "2023-07-28T07:16:44.972343Z",
     "shell.execute_reply.started": "2023-07-28T07:16:32.548150Z"
    }
   },
   "outputs": [
    {
     "name": "stdout",
     "output_type": "stream",
     "text": [
      "X_train_vectors shape  (162758, 2500)\n"
     ]
    }
   ],
   "source": [
    "# Split back combined into original train and test data from kaggle\n",
    "X_train_text_vectors = combined_text_vectors_svd[:len(Train_Data)]\n",
    "X_test_text_vectors = combined_text_vectors_svd[len(Train_Data):]\n",
    "\n",
    "# Reset the index of combined_data\n",
    "combined_data = combined_data.reset_index(drop=True)\n",
    "\n",
    "# Combine text vectors with non-text columns for train and test data\n",
    "# X_train_vectors = pd.concat([pd.DataFrame(X_train_text_vectors), combined_data.loc[0:len(Train_Data)-1, non_text_columns]], axis=1)\n",
    "# X_test_vectors = pd.concat([pd.DataFrame(X_test_text_vectors), combined_data.loc[len(Train_Data):len(Train_Data)+len(Test_Data)].reset_index(drop=True)[non_text_columns]], axis=1)\n",
    "X_train_vectors = pd.concat([pd.DataFrame(X_train_text_vectors)], axis=1)\n",
    "X_test_vectors = pd.concat([pd.DataFrame(X_test_text_vectors)], axis=1)\n",
    "\n",
    "print(\"X_train_vectors shape \", X_train_vectors.shape)"
   ]
  },
  {
   "cell_type": "markdown",
   "metadata": {},
   "source": [
    "### After adding the label encoded \"non_text_columns\" into the data our accurcy have decreased by around 10%. This is unsual because add more columns should increase the accrucy instead but here it is decreasing. \n",
    "### Why? - My opinion - Since in \"non_text_columns\" movieid, reviewer name are identity column, label encoder would give random value to each id which is not related to the sentiment at all and since most classification algorithum has have assumption of linear speparabilty and because this id columns there linear spearability might be getting violated maybe because of that it is giving the less accurcy. - \n",
    "### I got this insight when I fitted the logisitic model including \"non_text_columns\" all predicted values were positive. But when removed that \"non_text_columns\" from data and again fitted the model. It gave both positive and negative values properly while predicting. "
   ]
  },
  {
   "cell_type": "code",
   "execution_count": 48,
   "metadata": {
    "execution": {
     "iopub.execute_input": "2023-07-28T07:16:44.975043Z",
     "iopub.status.busy": "2023-07-28T07:16:44.974705Z",
     "iopub.status.idle": "2023-07-28T07:16:45.000810Z",
     "shell.execute_reply": "2023-07-28T07:16:44.999988Z",
     "shell.execute_reply.started": "2023-07-28T07:16:44.975014Z"
    }
   },
   "outputs": [
    {
     "data": {
      "text/html": [
       "<div>\n",
       "<style scoped>\n",
       "    .dataframe tbody tr th:only-of-type {\n",
       "        vertical-align: middle;\n",
       "    }\n",
       "\n",
       "    .dataframe tbody tr th {\n",
       "        vertical-align: top;\n",
       "    }\n",
       "\n",
       "    .dataframe thead th {\n",
       "        text-align: right;\n",
       "    }\n",
       "</style>\n",
       "<table border=\"1\" class=\"dataframe\">\n",
       "  <thead>\n",
       "    <tr style=\"text-align: right;\">\n",
       "      <th></th>\n",
       "      <th>0</th>\n",
       "      <th>1</th>\n",
       "      <th>2</th>\n",
       "      <th>3</th>\n",
       "      <th>4</th>\n",
       "      <th>5</th>\n",
       "      <th>6</th>\n",
       "      <th>7</th>\n",
       "      <th>8</th>\n",
       "      <th>9</th>\n",
       "      <th>...</th>\n",
       "      <th>2490</th>\n",
       "      <th>2491</th>\n",
       "      <th>2492</th>\n",
       "      <th>2493</th>\n",
       "      <th>2494</th>\n",
       "      <th>2495</th>\n",
       "      <th>2496</th>\n",
       "      <th>2497</th>\n",
       "      <th>2498</th>\n",
       "      <th>2499</th>\n",
       "    </tr>\n",
       "  </thead>\n",
       "  <tbody>\n",
       "    <tr>\n",
       "      <th>0</th>\n",
       "      <td>0.000303</td>\n",
       "      <td>0.053592</td>\n",
       "      <td>-0.029163</td>\n",
       "      <td>0.096191</td>\n",
       "      <td>0.066490</td>\n",
       "      <td>0.007960</td>\n",
       "      <td>-0.008268</td>\n",
       "      <td>-0.011779</td>\n",
       "      <td>0.010164</td>\n",
       "      <td>-0.010058</td>\n",
       "      <td>...</td>\n",
       "      <td>0.017011</td>\n",
       "      <td>0.000806</td>\n",
       "      <td>0.004451</td>\n",
       "      <td>0.007015</td>\n",
       "      <td>-0.005160</td>\n",
       "      <td>-0.011186</td>\n",
       "      <td>0.005624</td>\n",
       "      <td>-0.014033</td>\n",
       "      <td>-0.019224</td>\n",
       "      <td>-0.000528</td>\n",
       "    </tr>\n",
       "    <tr>\n",
       "      <th>1</th>\n",
       "      <td>0.000368</td>\n",
       "      <td>0.062781</td>\n",
       "      <td>-0.024856</td>\n",
       "      <td>0.007713</td>\n",
       "      <td>-0.068094</td>\n",
       "      <td>0.076720</td>\n",
       "      <td>0.007843</td>\n",
       "      <td>-0.022360</td>\n",
       "      <td>-0.050312</td>\n",
       "      <td>-0.015216</td>\n",
       "      <td>...</td>\n",
       "      <td>-0.007343</td>\n",
       "      <td>-0.016983</td>\n",
       "      <td>-0.001971</td>\n",
       "      <td>-0.004673</td>\n",
       "      <td>-0.023845</td>\n",
       "      <td>0.017923</td>\n",
       "      <td>-0.016506</td>\n",
       "      <td>0.005211</td>\n",
       "      <td>0.003269</td>\n",
       "      <td>-0.006832</td>\n",
       "    </tr>\n",
       "    <tr>\n",
       "      <th>2</th>\n",
       "      <td>0.000361</td>\n",
       "      <td>0.067709</td>\n",
       "      <td>-0.024377</td>\n",
       "      <td>0.009452</td>\n",
       "      <td>-0.047269</td>\n",
       "      <td>0.009957</td>\n",
       "      <td>0.019961</td>\n",
       "      <td>0.020894</td>\n",
       "      <td>0.012431</td>\n",
       "      <td>0.080011</td>\n",
       "      <td>...</td>\n",
       "      <td>0.015808</td>\n",
       "      <td>0.006183</td>\n",
       "      <td>0.000267</td>\n",
       "      <td>-0.010441</td>\n",
       "      <td>-0.001964</td>\n",
       "      <td>0.005258</td>\n",
       "      <td>-0.001182</td>\n",
       "      <td>-0.011174</td>\n",
       "      <td>-0.002852</td>\n",
       "      <td>-0.028000</td>\n",
       "    </tr>\n",
       "    <tr>\n",
       "      <th>3</th>\n",
       "      <td>0.000250</td>\n",
       "      <td>0.034443</td>\n",
       "      <td>-0.011824</td>\n",
       "      <td>0.002734</td>\n",
       "      <td>-0.018978</td>\n",
       "      <td>0.004902</td>\n",
       "      <td>-0.011090</td>\n",
       "      <td>0.001495</td>\n",
       "      <td>0.004868</td>\n",
       "      <td>0.010710</td>\n",
       "      <td>...</td>\n",
       "      <td>0.010959</td>\n",
       "      <td>-0.007538</td>\n",
       "      <td>-0.028489</td>\n",
       "      <td>-0.005320</td>\n",
       "      <td>-0.000430</td>\n",
       "      <td>-0.001824</td>\n",
       "      <td>0.005805</td>\n",
       "      <td>-0.014871</td>\n",
       "      <td>0.009899</td>\n",
       "      <td>0.008373</td>\n",
       "    </tr>\n",
       "    <tr>\n",
       "      <th>4</th>\n",
       "      <td>0.000417</td>\n",
       "      <td>0.054058</td>\n",
       "      <td>-0.017594</td>\n",
       "      <td>-0.011306</td>\n",
       "      <td>-0.071098</td>\n",
       "      <td>-0.024551</td>\n",
       "      <td>-0.053639</td>\n",
       "      <td>-0.037499</td>\n",
       "      <td>0.097080</td>\n",
       "      <td>-0.060347</td>\n",
       "      <td>...</td>\n",
       "      <td>-0.002311</td>\n",
       "      <td>0.003363</td>\n",
       "      <td>0.001194</td>\n",
       "      <td>0.012897</td>\n",
       "      <td>0.002314</td>\n",
       "      <td>0.005009</td>\n",
       "      <td>0.001367</td>\n",
       "      <td>-0.010846</td>\n",
       "      <td>0.002282</td>\n",
       "      <td>0.001368</td>\n",
       "    </tr>\n",
       "  </tbody>\n",
       "</table>\n",
       "<p>5 rows × 2500 columns</p>\n",
       "</div>"
      ],
      "text/plain": [
       "       0         1         2         3         4         5         6     \\\n",
       "0  0.000303  0.053592 -0.029163  0.096191  0.066490  0.007960 -0.008268   \n",
       "1  0.000368  0.062781 -0.024856  0.007713 -0.068094  0.076720  0.007843   \n",
       "2  0.000361  0.067709 -0.024377  0.009452 -0.047269  0.009957  0.019961   \n",
       "3  0.000250  0.034443 -0.011824  0.002734 -0.018978  0.004902 -0.011090   \n",
       "4  0.000417  0.054058 -0.017594 -0.011306 -0.071098 -0.024551 -0.053639   \n",
       "\n",
       "       7         8         9     ...      2490      2491      2492      2493  \\\n",
       "0 -0.011779  0.010164 -0.010058  ...  0.017011  0.000806  0.004451  0.007015   \n",
       "1 -0.022360 -0.050312 -0.015216  ... -0.007343 -0.016983 -0.001971 -0.004673   \n",
       "2  0.020894  0.012431  0.080011  ...  0.015808  0.006183  0.000267 -0.010441   \n",
       "3  0.001495  0.004868  0.010710  ...  0.010959 -0.007538 -0.028489 -0.005320   \n",
       "4 -0.037499  0.097080 -0.060347  ... -0.002311  0.003363  0.001194  0.012897   \n",
       "\n",
       "       2494      2495      2496      2497      2498      2499  \n",
       "0 -0.005160 -0.011186  0.005624 -0.014033 -0.019224 -0.000528  \n",
       "1 -0.023845  0.017923 -0.016506  0.005211  0.003269 -0.006832  \n",
       "2 -0.001964  0.005258 -0.001182 -0.011174 -0.002852 -0.028000  \n",
       "3 -0.000430 -0.001824  0.005805 -0.014871  0.009899  0.008373  \n",
       "4  0.002314  0.005009  0.001367 -0.010846  0.002282  0.001368  \n",
       "\n",
       "[5 rows x 2500 columns]"
      ]
     },
     "execution_count": 48,
     "metadata": {},
     "output_type": "execute_result"
    }
   ],
   "source": [
    "X_train_vectors.head()"
   ]
  },
  {
   "cell_type": "code",
   "execution_count": 49,
   "metadata": {
    "execution": {
     "iopub.execute_input": "2023-07-28T07:16:45.002795Z",
     "iopub.status.busy": "2023-07-28T07:16:45.002465Z",
     "iopub.status.idle": "2023-07-28T07:16:45.008585Z",
     "shell.execute_reply": "2023-07-28T07:16:45.007638Z",
     "shell.execute_reply.started": "2023-07-28T07:16:45.002768Z"
    }
   },
   "outputs": [
    {
     "data": {
      "text/plain": [
       "pandas.core.frame.DataFrame"
      ]
     },
     "execution_count": 49,
     "metadata": {},
     "output_type": "execute_result"
    }
   ],
   "source": [
    "type(X_train_vectors)"
   ]
  },
  {
   "cell_type": "markdown",
   "metadata": {},
   "source": [
    "## Spliting the data"
   ]
  },
  {
   "cell_type": "code",
   "execution_count": 50,
   "metadata": {
    "execution": {
     "iopub.execute_input": "2023-07-28T07:16:45.009966Z",
     "iopub.status.busy": "2023-07-28T07:16:45.009630Z",
     "iopub.status.idle": "2023-07-28T07:16:49.411733Z",
     "shell.execute_reply": "2023-07-28T07:16:49.410656Z",
     "shell.execute_reply.started": "2023-07-28T07:16:45.009940Z"
    }
   },
   "outputs": [
    {
     "name": "stdout",
     "output_type": "stream",
     "text": [
      "Training set size: 130206\n",
      "Validation set size: 32552\n",
      "shape of X_train_vectors (162758, 2500)\n",
      "CPU times: user 3.22 s, sys: 1.17 s, total: 4.39 s\n",
      "Wall time: 4.39 s\n"
     ]
    }
   ],
   "source": [
    "%%time\n",
    "\n",
    "from sklearn.model_selection import StratifiedShuffleSplit\n",
    "\n",
    "# Reset the index of the DataFrame\n",
    "X_train_vectors = X_train_vectors.reset_index(drop=True)\n",
    "Train_Data['sentiment'] = Train_Data['sentiment'].reset_index(drop=True)\n",
    "\n",
    "# Initialize the StratifiedShuffleSplit with the desired parameters\n",
    "splitter = StratifiedShuffleSplit(n_splits=1, test_size=0.2, random_state=5)\n",
    "\n",
    "# Perform the stratified shuffle split on the data\n",
    "for train_indices, val_indices in splitter.split(X_train_vectors, Train_Data['sentiment']):\n",
    "    X_train, X_val = X_train_vectors.loc[train_indices], X_train_vectors.loc[val_indices]\n",
    "    y_train, y_val = Train_Data['sentiment'].loc[train_indices], Train_Data['sentiment'].loc[val_indices]\n",
    "\n",
    "# Print the sizes of each set\n",
    "print(\"Training set size:\", X_train.shape[0])\n",
    "print(\"Validation set size:\", X_val.shape[0])\n",
    "\n",
    "# # This is another approch to split the data but I didn't use this approch because this data was imbalance.\n",
    "# # Also I try to implement SMOTE but it was not parctical because data was already to big and \n",
    "# # adding some extra observating was keep giving memory error\n",
    "\n",
    "# # Split train data into train and validation sets\n",
    "# X_train, X_val, y_train, y_val = train_test_split(X_train_vectors, Train_Data['sentiment'], test_size=0.2, random_state=42)\n",
    "\n",
    "X_test = X_test_vectors\n",
    "\n",
    "print(\"shape of X_train_vectors\", X_train_vectors.shape)\n",
    "# print(\"Checking null values\", X_train_vectors.isnull().sum())"
   ]
  },
  {
   "cell_type": "code",
   "execution_count": null,
   "metadata": {},
   "outputs": [],
   "source": []
  },
  {
   "cell_type": "markdown",
   "metadata": {},
   "source": [
    "# Comparing different model by validataion set to select the best model."
   ]
  },
  {
   "cell_type": "code",
   "execution_count": 51,
   "metadata": {
    "execution": {
     "iopub.execute_input": "2023-07-28T07:16:49.413355Z",
     "iopub.status.busy": "2023-07-28T07:16:49.413027Z",
     "iopub.status.idle": "2023-07-28T07:16:49.423369Z",
     "shell.execute_reply": "2023-07-28T07:16:49.422141Z",
     "shell.execute_reply.started": "2023-07-28T07:16:49.413328Z"
    }
   },
   "outputs": [],
   "source": [
    "from sklearn.metrics import confusion_matrix\n",
    "from sklearn.metrics import classification_report\n",
    "# classification_report()\n",
    "\n",
    "def Classification_Model_Adequacy(y_val, val_predictions):\n",
    "    # Calculate the confusion matrix\n",
    "    cm = confusion_matrix(y_val, val_predictions)\n",
    "\n",
    "    # Create a DataFrame from the confusion matrix\n",
    "    cm_df = pd.DataFrame(cm, index=['True 1', 'True 0'], columns=['Predicted 1', 'Predicted 0'])\n",
    "\n",
    "    # Extract the TP, FP, TN, and FN values from the confusion matrix\n",
    "    TN, FP, FN, TP = cm.ravel()\n",
    "\n",
    "    # Print the confusion matrix\n",
    "    print(\"Confusion Matrix:\")\n",
    "    print(cm_df)\n",
    "\n",
    "    print(\"_______________________________________________________________\")\n",
    "\n",
    "    # Calculate the overall accuracy\n",
    "    accuracy = (TP + TN) / (TP + TN + FP + FN)\n",
    "    print(f\"Accuracy: {accuracy}\")\n",
    "\n",
    "    # Calculate precision and recall (sensitivity or true positive rate)\n",
    "    precision = TP / (TP + FP)\n",
    "    recall = TP / (TP + FN)\n",
    "    print(f\"Precision: {precision}\")\n",
    "    print(f\"Recall: {recall}\")\n",
    "\n",
    "    # Calculate specificity (true negative rate)\n",
    "    specificity = TN / (TN + FP)\n",
    "    print(f\"Specificity: {specificity}\")\n",
    "\n",
    "    # Calculate F1 score (harmonic mean of precision and recall)\n",
    "    f1_score = 2 * (precision * recall) / (precision + recall)\n",
    "    print(f\"F1 Score: {f1_score}\")"
   ]
  },
  {
   "cell_type": "code",
   "execution_count": 52,
   "metadata": {
    "execution": {
     "iopub.execute_input": "2023-07-28T07:16:49.425044Z",
     "iopub.status.busy": "2023-07-28T07:16:49.424682Z",
     "iopub.status.idle": "2023-07-28T07:16:49.441961Z",
     "shell.execute_reply": "2023-07-28T07:16:49.440857Z",
     "shell.execute_reply.started": "2023-07-28T07:16:49.425003Z"
    }
   },
   "outputs": [],
   "source": [
    "import seaborn as sns\n",
    "import matplotlib.pyplot as plt\n",
    "from sklearn.metrics import confusion_matrix\n",
    "\n",
    "def plot_confusion_matrix(true_labels, predicted_labels, labels=None):\n",
    "    \"\"\"\n",
    "    Plot the confusion matrix as a heatmap.\n",
    "\n",
    "    Parameters:\n",
    "        true_labels (array-like): True labels of the data.\n",
    "        predicted_labels (array-like): Predicted labels from the model.\n",
    "        labels (list or array-like, optional): List of class labels to be used for plotting.\n",
    "\n",
    "    Returns:\n",
    "        None (displays the plot)\n",
    "    \"\"\"\n",
    "    # Compute the confusion matrix\n",
    "    cm = confusion_matrix(true_labels, predicted_labels)\n",
    "\n",
    "    # Get the class labels\n",
    "    if labels is None:\n",
    "        labels = list(set(true_labels) | set(predicted_labels))\n",
    "\n",
    "    # Plot the confusion matrix as a heatmap\n",
    "    plt.figure(figsize=(8, 6))\n",
    "    sns.heatmap(cm, annot=True, fmt='d', cmap='Blues', xticklabels=labels, yticklabels=labels)\n",
    "    plt.xlabel('Predicted Labels')\n",
    "    plt.ylabel('True Labels')\n",
    "    plt.title('Confusion Matrix')\n",
    "    plt.show()"
   ]
  },
  {
   "cell_type": "code",
   "execution_count": 53,
   "metadata": {
    "execution": {
     "iopub.execute_input": "2023-07-28T07:16:49.443947Z",
     "iopub.status.busy": "2023-07-28T07:16:49.443536Z",
     "iopub.status.idle": "2023-07-28T07:17:22.869364Z",
     "shell.execute_reply": "2023-07-28T07:17:22.867866Z",
     "shell.execute_reply.started": "2023-07-28T07:16:49.443918Z"
    }
   },
   "outputs": [
    {
     "name": "stdout",
     "output_type": "stream",
     "text": [
      "Accuracy: 0.7758663062177439\n",
      "______________________________________________________________\n"
     ]
    },
    {
     "data": {
      "image/png": "[encoded data removed]",
      "text/plain": [
       "<Figure size 800x600 with 2 Axes>"
      ]
     },
     "metadata": {},
     "output_type": "display_data"
    },
    {
     "name": "stdout",
     "output_type": "stream",
     "text": [
      "              precision    recall  f1-score   support\n",
      "\n",
      "    NEGATIVE       0.74      0.50      0.60     10800\n",
      "    POSITIVE       0.79      0.91      0.84     21752\n",
      "\n",
      "    accuracy                           0.78     32552\n",
      "   macro avg       0.76      0.71      0.72     32552\n",
      "weighted avg       0.77      0.78      0.76     32552\n",
      "\n",
      "______________________________________________________________\n",
      "CPU times: user 1min 48s, sys: 6.11 s, total: 1min 54s\n",
      "Wall time: 33.4 s\n"
     ]
    }
   ],
   "source": [
    "%%time\n",
    "\n",
    "from sklearn.linear_model import LogisticRegression\n",
    "from sklearn.metrics import accuracy_score\n",
    "\n",
    "# Train a logistic regression model\n",
    "# logreg_classifier = LogisticRegression(penalty = 'l2', solver = 'sag')\n",
    "logreg_classifier = LogisticRegression()\n",
    "logreg_classifier.fit(X_train, y_train)\n",
    "\n",
    "# Make predictions on the test set\n",
    "val_predictions_log = logreg_classifier.predict(X_val)\n",
    "\n",
    "# Calculate accuracy\n",
    "accuracy_log = accuracy_score(y_val, val_predictions_log)\n",
    "print(f\"Accuracy: {accuracy_log}\")\n",
    "\n",
    "print(\"______________________________________________________________\")\n",
    "\n",
    "# Print classification report for precision, recall, f1-score, support\n",
    "# Classification_Model_Adequacy(y_val, val_predictions_log)\n",
    "plot_confusion_matrix(y_val, val_predictions_log)\n",
    "print(classification_report(y_val, val_predictions_log))\n",
    "\n",
    "print(\"______________________________________________________________\")"
   ]
  },
  {
   "cell_type": "code",
   "execution_count": 54,
   "metadata": {
    "execution": {
     "iopub.execute_input": "2023-07-28T07:17:22.871706Z",
     "iopub.status.busy": "2023-07-28T07:17:22.870758Z",
     "iopub.status.idle": "2023-07-28T07:18:41.416909Z",
     "shell.execute_reply": "2023-07-28T07:18:41.415672Z",
     "shell.execute_reply.started": "2023-07-28T07:17:22.871673Z"
    }
   },
   "outputs": [
    {
     "name": "stdout",
     "output_type": "stream",
     "text": [
      "Validation Accuracy (LinearSVC): 0.7778938314082084\n",
      "______________________________________________________________\n"
     ]
    },
    {
     "data": {
      "image/png": "[encoded data removed]",
      "text/plain": [
       "<Figure size 800x600 with 2 Axes>"
      ]
     },
     "metadata": {},
     "output_type": "display_data"
    },
    {
     "name": "stdout",
     "output_type": "stream",
     "text": [
      "              precision    recall  f1-score   support\n",
      "\n",
      "    NEGATIVE       0.73      0.53      0.61     10800\n",
      "    POSITIVE       0.79      0.90      0.84     21752\n",
      "\n",
      "    accuracy                           0.78     32552\n",
      "   macro avg       0.76      0.72      0.73     32552\n",
      "weighted avg       0.77      0.78      0.77     32552\n",
      "\n",
      "______________________________________________________________\n",
      "CPU times: user 1min 15s, sys: 4.14 s, total: 1min 19s\n",
      "Wall time: 1min 18s\n"
     ]
    }
   ],
   "source": [
    "%%time\n",
    "\n",
    "from sklearn.svm import LinearSVC\n",
    "from sklearn.metrics import accuracy_score, classification_report\n",
    "\n",
    "# Create Linear Support Vector Classifier (LinearSVC)\n",
    "svc_classifier = LinearSVC(random_state=5)\n",
    "\n",
    "# Train the model\n",
    "svc_classifier.fit(X_train, y_train)\n",
    "\n",
    "# Make predictions on the validation set\n",
    "val_predictions_svc = svc_classifier.predict(X_val)\n",
    "\n",
    "# Calculate accuracy on the validation set\n",
    "accuracy_svc = accuracy_score(y_val, val_predictions_svc)\n",
    "print(f\"Validation Accuracy (LinearSVC): {accuracy_svc}\")\n",
    "\n",
    "print(\"______________________________________________________________\")\n",
    "\n",
    "# Print classification report for precision, recall, f1-score, support\n",
    "# Classification_Model_Adequacy(y_val, val_predictions_log)\n",
    "plot_confusion_matrix(y_val, val_predictions_svc)\n",
    "print(classification_report(y_val, val_predictions_svc))\n",
    "\n",
    "print(\"______________________________________________________________\")"
   ]
  },
  {
   "cell_type": "code",
   "execution_count": 55,
   "metadata": {
    "execution": {
     "iopub.execute_input": "2023-07-28T07:18:41.419145Z",
     "iopub.status.busy": "2023-07-28T07:18:41.418761Z",
     "iopub.status.idle": "2023-07-28T07:18:58.597099Z",
     "shell.execute_reply": "2023-07-28T07:18:58.595715Z",
     "shell.execute_reply.started": "2023-07-28T07:18:41.419110Z"
    }
   },
   "outputs": [
    {
     "name": "stdout",
     "output_type": "stream",
     "text": [
      "Validation Accuracy: 0.7355615630376013\n",
      "______________________________________________________________\n"
     ]
    },
    {
     "data": {
      "image/png": "[encoded data removed]",
      "text/plain": [
       "<Figure size 800x600 with 2 Axes>"
      ]
     },
     "metadata": {},
     "output_type": "display_data"
    },
    {
     "name": "stdout",
     "output_type": "stream",
     "text": [
      "              precision    recall  f1-score   support\n",
      "\n",
      "    NEGATIVE       0.83      0.26      0.39     10800\n",
      "    POSITIVE       0.72      0.97      0.83     21752\n",
      "\n",
      "    accuracy                           0.74     32552\n",
      "   macro avg       0.78      0.61      0.61     32552\n",
      "weighted avg       0.76      0.74      0.69     32552\n",
      "\n",
      "______________________________________________________________\n",
      "CPU times: user 17 s, sys: 852 ms, total: 17.8 s\n",
      "Wall time: 17.2 s\n"
     ]
    }
   ],
   "source": [
    "%%time\n",
    "\n",
    "# SGD Classifier\n",
    "\n",
    "from sklearn.linear_model import SGDClassifier\n",
    "from sklearn.metrics import accuracy_score\n",
    "\n",
    "# We can try different loss function modified_huber, hinge, log, squared_hinge, perceptron\n",
    "\n",
    "# Create SGD Classifier classifier\n",
    "sgd_classifier = SGDClassifier(loss='hinge', max_iter=750, random_state=5)\n",
    "\n",
    "# Train the model\n",
    "sgd_classifier.fit(X_train, y_train)\n",
    "\n",
    "# Make predictions on the validation set\n",
    "val_predictions_sgd = sgd_classifier.predict(X_val)\n",
    "\n",
    "# Calculate accuracy on the validation set\n",
    "accuracy_sgd = accuracy_score(y_val, val_predictions_sgd)\n",
    "print(f\"Validation Accuracy: {accuracy_sgd}\")\n",
    "\n",
    "print(\"______________________________________________________________\")\n",
    "\n",
    "# Print classification report for precision, recall, f1-score, support\n",
    "# Classification_Model_Adequacy(y_val, val_predictions_sgd)\n",
    "plot_confusion_matrix(y_val, val_predictions_sgd)\n",
    "print(classification_report(y_val, val_predictions_sgd))\n",
    "\n",
    "print(\"______________________________________________________________\")"
   ]
  },
  {
   "cell_type": "code",
   "execution_count": 56,
   "metadata": {
    "execution": {
     "iopub.execute_input": "2023-07-28T07:18:58.611125Z",
     "iopub.status.busy": "2023-07-28T07:18:58.610658Z",
     "iopub.status.idle": "2023-07-28T07:19:06.812684Z",
     "shell.execute_reply": "2023-07-28T07:19:06.811382Z",
     "shell.execute_reply.started": "2023-07-28T07:18:58.611087Z"
    }
   },
   "outputs": [
    {
     "name": "stdout",
     "output_type": "stream",
     "text": [
      "Validation Accuracy: 0.7214303268616368\n",
      "______________________________________________________________\n"
     ]
    },
    {
     "data": {
      "image/png": "[encoded data removed]",
      "text/plain": [
       "<Figure size 800x600 with 2 Axes>"
      ]
     },
     "metadata": {},
     "output_type": "display_data"
    },
    {
     "name": "stdout",
     "output_type": "stream",
     "text": [
      "Confusion Matrix:\n",
      "        Predicted 1  Predicted 0\n",
      "True 1         2083         8717\n",
      "True 0          351        21401\n",
      "_______________________________________________________________\n",
      "Accuracy: 0.7214303268616368\n",
      "Precision: 0.7105717511122916\n",
      "Recall: 0.9838635527767562\n",
      "Specificity: 0.19287037037037036\n",
      "F1 Score: 0.8251783304414884\n",
      "______________________________________________________________\n",
      "CPU times: user 8.06 s, sys: 824 ms, total: 8.88 s\n",
      "Wall time: 8.19 s\n"
     ]
    }
   ],
   "source": [
    "%%time\n",
    "\n",
    "# Perceptron Algorithum\n",
    "\n",
    "from sklearn.linear_model import Perceptron\n",
    "from sklearn.metrics import accuracy_score\n",
    "\n",
    "# Create Perceptron classifier\n",
    "perceptron = Perceptron()\n",
    "\n",
    "# Train the model\n",
    "perceptron.fit(X_train, y_train)\n",
    "\n",
    "# Make predictions on the validation set\n",
    "val_predictions_perc = perceptron.predict(X_val)\n",
    "\n",
    "# Calculate accuracy on the validation set\n",
    "accuracy_perc = accuracy_score(y_val, val_predictions_perc)\n",
    "print(f\"Validation Accuracy: {accuracy_perc}\")\n",
    "\n",
    "print(\"______________________________________________________________\")\n",
    "\n",
    "plot_confusion_matrix(y_val, val_predictions_perc)\n",
    "Classification_Model_Adequacy(y_val, val_predictions_perc)\n",
    "\n",
    "print(\"______________________________________________________________\")"
   ]
  },
  {
   "cell_type": "code",
   "execution_count": 57,
   "metadata": {
    "execution": {
     "iopub.execute_input": "2023-07-28T07:19:06.814313Z",
     "iopub.status.busy": "2023-07-28T07:19:06.813940Z",
     "iopub.status.idle": "2023-07-28T07:19:17.050928Z",
     "shell.execute_reply": "2023-07-28T07:19:17.049805Z",
     "shell.execute_reply.started": "2023-07-28T07:19:06.814273Z"
    }
   },
   "outputs": [
    {
     "name": "stdout",
     "output_type": "stream",
     "text": [
      "Accuracy: 0.6008540181862866\n",
      "______________________________________________________________\n"
     ]
    },
    {
     "data": {
      "image/png": "[encoded data removed]",
      "text/plain": [
       "<Figure size 800x600 with 2 Axes>"
      ]
     },
     "metadata": {},
     "output_type": "display_data"
    },
    {
     "name": "stdout",
     "output_type": "stream",
     "text": [
      "              precision    recall  f1-score   support\n",
      "\n",
      "    NEGATIVE       0.43      0.65      0.52     10800\n",
      "    POSITIVE       0.77      0.57      0.66     21752\n",
      "\n",
      "    accuracy                           0.60     32552\n",
      "   macro avg       0.60      0.61      0.59     32552\n",
      "weighted avg       0.66      0.60      0.61     32552\n",
      "\n",
      "______________________________________________________________\n",
      "CPU times: user 8.36 s, sys: 2.09 s, total: 10.5 s\n",
      "Wall time: 10.2 s\n"
     ]
    }
   ],
   "source": [
    "%%time\n",
    "\n",
    "# Gaussian Naive Bayes\n",
    "\n",
    "from sklearn.naive_bayes import GaussianNB\n",
    "from sklearn.metrics import accuracy_score\n",
    "\n",
    "# Create Gaussian Naive Bayes classifier\n",
    "gnb = GaussianNB()\n",
    "\n",
    "# Train the model\n",
    "gnb.fit(X_train, y_train)\n",
    "\n",
    "# Make predictions on the test set\n",
    "val_predictions_gnb = gnb.predict(X_val)\n",
    "\n",
    "# Calculate accuracy\n",
    "accuracy_gnb = accuracy_score(y_val, val_predictions_gnb)\n",
    "print(\"Accuracy:\", accuracy_gnb)\n",
    "\n",
    "print(\"______________________________________________________________\")\n",
    "\n",
    "# Classification_Model_Adequacy(y_val, val_predictions_gnb)\n",
    "plot_confusion_matrix(y_val, val_predictions_gnb)\n",
    "print(classification_report(y_val, val_predictions_gnb))\n",
    "\n",
    "print(\"______________________________________________________________\")"
   ]
  },
  {
   "cell_type": "code",
   "execution_count": 58,
   "metadata": {
    "execution": {
     "iopub.execute_input": "2023-07-28T07:19:17.052908Z",
     "iopub.status.busy": "2023-07-28T07:19:17.052542Z",
     "iopub.status.idle": "2023-07-28T07:25:44.917473Z",
     "shell.execute_reply": "2023-07-28T07:25:44.916163Z",
     "shell.execute_reply.started": "2023-07-28T07:19:17.052878Z"
    }
   },
   "outputs": [
    {
     "name": "stdout",
     "output_type": "stream",
     "text": [
      "Validation Accuracy: 0.6682231506512657\n",
      "______________________________________________________________\n",
      "Confusion Matrix:\n",
      "        Predicted 1  Predicted 0\n",
      "True 1            0        10800\n",
      "True 0            0        21752\n",
      "_______________________________________________________________\n",
      "Accuracy: 0.6682231506512657\n",
      "Precision: 0.6682231506512657\n",
      "Recall: 1.0\n",
      "Specificity: 0.0\n",
      "F1 Score: 0.8011196228638775\n",
      "______________________________________________________________\n",
      "CPU times: user 6min 27s, sys: 355 ms, total: 6min 27s\n",
      "Wall time: 6min 27s\n"
     ]
    }
   ],
   "source": [
    "%%time\n",
    "\n",
    "# Import libraries\n",
    "from sklearn.ensemble import RandomForestClassifier\n",
    "from sklearn.metrics import accuracy_score\n",
    "\n",
    "# Create Random Forest classifier\n",
    "rf_classifier = RandomForestClassifier(n_estimators=100, max_depth=5, random_state=5)\n",
    "\n",
    "# Train the model\n",
    "rf_classifier.fit(X_train, y_train)\n",
    "\n",
    "# Make predictions on the validation set\n",
    "val_predictions_rf = rf_classifier.predict(X_val)\n",
    "\n",
    "# Calculate accuracy on the validation set\n",
    "val_accuracy = accuracy_score(y_val, val_predictions_rf)\n",
    "print(f\"Validation Accuracy: {val_accuracy}\")\n",
    "\n",
    "print(\"______________________________________________________________\")\n",
    "\n",
    "Classification_Model_Adequacy(y_val, val_predictions_rf)\n",
    "\n",
    "print(\"______________________________________________________________\")"
   ]
  },
  {
   "cell_type": "code",
   "execution_count": 59,
   "metadata": {
    "execution": {
     "iopub.execute_input": "2023-07-28T07:25:44.919473Z",
     "iopub.status.busy": "2023-07-28T07:25:44.919114Z",
     "iopub.status.idle": "2023-07-28T07:25:44.925093Z",
     "shell.execute_reply": "2023-07-28T07:25:44.923886Z",
     "shell.execute_reply.started": "2023-07-28T07:25:44.919446Z"
    }
   },
   "outputs": [],
   "source": [
    "# %%time\n",
    "\n",
    "# # K-Nearest Neighbors (KNN)\n",
    "\n",
    "# from sklearn.neighbors import KNeighborsClassifier\n",
    "# from sklearn.metrics import accuracy_score\n",
    "\n",
    "# # Create KNN classifier\n",
    "# knn = KNeighborsClassifier(n_neighbors=5)\n",
    "\n",
    "# # Train the model\n",
    "# knn.fit(X_train, y_train)\n",
    "\n",
    "# # Make predictions on the test set\n",
    "# val_predictions_knn = knn.predict(X_val)\n",
    "\n",
    "# # Calculate accuracy\n",
    "# accuracy = accuracy_score(y_val, val_predictions_knn)\n",
    "# print(\"Accuracy:\", accuracy)\n",
    "\n",
    "# print(\"______________________________________________________________\")\n",
    "\n",
    "# Classification_Model_Adequacy(y_val, val_predictions_knn)\n",
    "\n",
    "# print(\"______________________________________________________________\")"
   ]
  },
  {
   "cell_type": "code",
   "execution_count": 60,
   "metadata": {
    "execution": {
     "iopub.execute_input": "2023-07-28T07:25:44.927014Z",
     "iopub.status.busy": "2023-07-28T07:25:44.926703Z",
     "iopub.status.idle": "2023-07-28T07:25:44.937220Z",
     "shell.execute_reply": "2023-07-28T07:25:44.935931Z",
     "shell.execute_reply.started": "2023-07-28T07:25:44.926988Z"
    }
   },
   "outputs": [],
   "source": [
    "# %%time\n",
    "\n",
    "# # Import required libraries\n",
    "# from sklearn.neural_network import MLPClassifier\n",
    "# from sklearn.metrics import accuracy_score\n",
    "\n",
    "# # Create Multi-layer Perceptron classifier\n",
    "# mlp_classifier = MLPClassifier(hidden_layer_sizes=(100, 50), batch_size=64, max_iter=200, random_state=5,\n",
    "#                                solver='adam', activation='relu')\n",
    "# # The 'hidden_layer_sizes' parameter specifies the number of neurons in each hidden layer.\n",
    "# # You can adjust these values based on your problem and dataset.\n",
    "# # 'batch_size' specifies the number of samples used in each update step.\n",
    "\n",
    "# # Train the model\n",
    "# mlp_classifier.fit(X_train, y_train)\n",
    "\n",
    "# # Make predictions on the validation set\n",
    "# val_predictions_mlp = mlp_classifier.predict(X_val)\n",
    "\n",
    "# # Calculate accuracy on the validation set\n",
    "# accuracy_mlp = accuracy_score(y_val, val_predictions_mlp)\n",
    "# print(f\"Validation Accuracy (MLP): {accuracy_mlp}\")\n",
    "\n",
    "# print(\"______________________________________________________________\")\n",
    "\n",
    "# # Print classification report for precision, recall, f1-score, support\n",
    "# # Classification_Model_Adequacy(y_val, val_predictions_mlp)\n",
    "# plot_confusion_matrix(y_val, val_predictions_mlp)\n",
    "# print(classification_report(y_val, val_predictions_mlp))\n",
    "\n",
    "# print(\"______________________________________________________________\")"
   ]
  },
  {
   "cell_type": "markdown",
   "metadata": {},
   "source": [
    "## I didn't run this 2 algorithum here because It was taking too much time. "
   ]
  },
  {
   "cell_type": "markdown",
   "metadata": {},
   "source": [
    "# Hyper-parameter Tunning of best selected model"
   ]
  },
  {
   "cell_type": "markdown",
   "metadata": {},
   "source": [
    "### Tuning for Linear SVC"
   ]
  },
  {
   "cell_type": "code",
   "execution_count": 61,
   "metadata": {
    "execution": {
     "iopub.execute_input": "2023-07-28T07:25:44.939342Z",
     "iopub.status.busy": "2023-07-28T07:25:44.938834Z",
     "iopub.status.idle": "2023-07-28T09:21:29.734468Z",
     "shell.execute_reply": "2023-07-28T09:21:29.731630Z",
     "shell.execute_reply.started": "2023-07-28T07:25:44.939313Z"
    }
   },
   "outputs": [
    {
     "name": "stdout",
     "output_type": "stream",
     "text": [
      "Best Hyperparameters: {'C': 1.0, 'dual': False, 'max_iter': 1500, 'penalty': 'l1'}\n",
      "Accuracy (LinearSVC): 0.7780781518800688\n",
      "______________________________________________________________\n",
      "              precision    recall  f1-score   support\n",
      "\n",
      "    NEGATIVE       0.73      0.53      0.61     10800\n",
      "    POSITIVE       0.79      0.90      0.84     21752\n",
      "\n",
      "    accuracy                           0.78     32552\n",
      "   macro avg       0.76      0.72      0.73     32552\n",
      "weighted avg       0.77      0.78      0.77     32552\n",
      "\n",
      "______________________________________________________________\n",
      "CPU times: user 1h 51min 44s, sys: 4min 16s, total: 1h 56min 1s\n",
      "Wall time: 1h 55min 44s\n"
     ]
    }
   ],
   "source": [
    "%%time\n",
    "\n",
    "from sklearn.svm import LinearSVC\n",
    "from sklearn.metrics import accuracy_score, classification_report\n",
    "from sklearn.model_selection import GridSearchCV\n",
    "\n",
    "# Define the hyperparameters to tune\n",
    "param_grid_svc = [\n",
    "    {'C': [0.01, 0.1, 1.0, 10.0],\n",
    "    'penalty': ['l1', 'l2'],   # Fixed to 'l2'\n",
    "    'dual': [False],     # Fixed to False\n",
    "    'max_iter': [1500]},\n",
    "    {'loss': ['hinge', 'squared_hinge']},\n",
    "]\n",
    "\n",
    "# ValueError: Unsupported set of arguments: The combination of penalty='l2' and loss='hinge' are not supported when dual=False,\n",
    "# Parameters: penalty='l2', loss='hinge', dual=False\n",
    "\n",
    "# Create Linear Support Vector Classifier (LinearSVC)\n",
    "svc_classifier = LinearSVC(random_state=5)\n",
    "\n",
    "# Create GridSearchCV with 5-fold cross-validation\n",
    "grid_search_svc = GridSearchCV(svc_classifier, param_grid_svc, cv=5, scoring='accuracy')\n",
    "\n",
    "# Train the model and perform the grid search to find the best hyperparameters\n",
    "grid_search_svc.fit(X_train, y_train)\n",
    "\n",
    "# Get the best hyperparameters\n",
    "best_params_svc = grid_search_svc.best_params_\n",
    "print(\"Best Hyperparameters:\", best_params_svc)\n",
    "\n",
    "# Use the best model found by GridSearchCV for predictions on the validation set\n",
    "best_model_svc = grid_search_svc.best_estimator_\n",
    "val_predictions_svc = best_model_svc.predict(X_val)\n",
    "\n",
    "# Calculate accuracy on the validation set\n",
    "accuracy_svc_hyp = accuracy_score(y_val, val_predictions_svc)\n",
    "print(f\"Accuracy (LinearSVC): {accuracy_svc_hyp}\")\n",
    "\n",
    "print(\"______________________________________________________________\")\n",
    "\n",
    "# Print classification report for precision, recall, f1-score, support\n",
    "print(classification_report(y_val, val_predictions_svc))\n",
    "\n",
    "print(\"______________________________________________________________\")"
   ]
  },
  {
   "cell_type": "code",
   "execution_count": 62,
   "metadata": {
    "execution": {
     "iopub.execute_input": "2023-07-28T09:21:29.737904Z",
     "iopub.status.busy": "2023-07-28T09:21:29.737313Z",
     "iopub.status.idle": "2023-07-28T09:21:29.752223Z",
     "shell.execute_reply": "2023-07-28T09:21:29.750232Z",
     "shell.execute_reply.started": "2023-07-28T09:21:29.737825Z"
    }
   },
   "outputs": [
    {
     "data": {
      "text/plain": [
       "{'C': 1.0, 'dual': False, 'max_iter': 1500, 'penalty': 'l1'}"
      ]
     },
     "execution_count": 62,
     "metadata": {},
     "output_type": "execute_result"
    }
   ],
   "source": [
    "grid_search_svc.best_params_"
   ]
  },
  {
   "cell_type": "code",
   "execution_count": 63,
   "metadata": {
    "execution": {
     "iopub.execute_input": "2023-07-28T09:21:29.754966Z",
     "iopub.status.busy": "2023-07-28T09:21:29.754305Z",
     "iopub.status.idle": "2023-07-28T09:21:29.765754Z",
     "shell.execute_reply": "2023-07-28T09:21:29.764555Z",
     "shell.execute_reply.started": "2023-07-28T09:21:29.754934Z"
    }
   },
   "outputs": [
    {
     "data": {
      "text/plain": [
       "0.7782590618084511"
      ]
     },
     "execution_count": 63,
     "metadata": {},
     "output_type": "execute_result"
    }
   ],
   "source": [
    "grid_search_svc.best_score_"
   ]
  },
  {
   "cell_type": "code",
   "execution_count": 64,
   "metadata": {
    "execution": {
     "iopub.execute_input": "2023-07-28T09:21:29.769053Z",
     "iopub.status.busy": "2023-07-28T09:21:29.767879Z",
     "iopub.status.idle": "2023-07-28T09:21:29.780127Z",
     "shell.execute_reply": "2023-07-28T09:21:29.778650Z",
     "shell.execute_reply.started": "2023-07-28T09:21:29.769006Z"
    }
   },
   "outputs": [
    {
     "name": "stdout",
     "output_type": "stream",
     "text": [
      "-0.6934242623745798 {'C': 0.01, 'dual': False, 'max_iter': 1500, 'penalty': 'l1'}\n",
      "-0.7302966167607342 {'C': 0.01, 'dual': False, 'max_iter': 1500, 'penalty': 'l2'}\n",
      "-0.7688739255440475 {'C': 0.1, 'dual': False, 'max_iter': 1500, 'penalty': 'l1'}\n",
      "-0.774081062278128 {'C': 0.1, 'dual': False, 'max_iter': 1500, 'penalty': 'l2'}\n",
      "-0.7782590618084511 {'C': 1.0, 'dual': False, 'max_iter': 1500, 'penalty': 'l1'}\n",
      "-0.778236023872854 {'C': 1.0, 'dual': False, 'max_iter': 1500, 'penalty': 'l2'}\n",
      "-0.7780977735507566 {'C': 10.0, 'dual': False, 'max_iter': 1500, 'penalty': 'l1'}\n",
      "-0.7781131339439826 {'C': 10.0, 'dual': False, 'max_iter': 1500, 'penalty': 'l2'}\n",
      "-0.7746340367291822 {'loss': 'hinge'}\n",
      "-0.7782283436762409 {'loss': 'squared_hinge'}\n"
     ]
    }
   ],
   "source": [
    "cvres = grid_search_svc.cv_results_\n",
    "for mean_score, params in zip(cvres[\"mean_test_score\"], cvres[\"params\"]):\n",
    "    print(-mean_score, params)"
   ]
  },
  {
   "cell_type": "markdown",
   "metadata": {},
   "source": [
    "### Tunning for logistic regression"
   ]
  },
  {
   "cell_type": "code",
   "execution_count": 65,
   "metadata": {
    "execution": {
     "iopub.execute_input": "2023-07-28T09:21:29.782264Z",
     "iopub.status.busy": "2023-07-28T09:21:29.781761Z",
     "iopub.status.idle": "2023-07-28T12:16:15.256296Z",
     "shell.execute_reply": "2023-07-28T12:16:15.252342Z",
     "shell.execute_reply.started": "2023-07-28T09:21:29.782232Z"
    }
   },
   "outputs": [
    {
     "name": "stdout",
     "output_type": "stream",
     "text": [
      "Best Hyperparameters: {'C': 10.0, 'max_iter': 300, 'penalty': 'l2', 'solver': 'lbfgs'}\n",
      "Accuracy (Logistic Regression): 0.7792455148685181\n",
      "______________________________________________________________\n",
      "              precision    recall  f1-score   support\n",
      "\n",
      "    NEGATIVE       0.72      0.55      0.62     10800\n",
      "    POSITIVE       0.80      0.90      0.84     21752\n",
      "\n",
      "    accuracy                           0.78     32552\n",
      "   macro avg       0.76      0.72      0.73     32552\n",
      "weighted avg       0.77      0.78      0.77     32552\n",
      "\n",
      "______________________________________________________________\n",
      "CPU times: user 3h 29min 5s, sys: 10min 22s, total: 3h 39min 27s\n",
      "Wall time: 2h 54min 45s\n"
     ]
    }
   ],
   "source": [
    "%%time\n",
    "\n",
    "from sklearn.linear_model import LogisticRegression\n",
    "from sklearn.metrics import accuracy_score, classification_report\n",
    "from sklearn.model_selection import GridSearchCV\n",
    "\n",
    "# Define the hyperparameters to tune\n",
    "param_grid_log = [\n",
    "    {'C': [0.01, 1.0, 10.0],  # Regularization strength values to try\n",
    "    'penalty': ['l1', 'l2'],      # Types of regularization penalties to try\n",
    "    'max_iter': [300],   # Maximum number of iterations to try\n",
    "    'solver': ['liblinear',  'saga'],   # Solvers to try\n",
    "#     'class_weight': ['balanced']\n",
    "    },\n",
    "    \n",
    "    {'C': [0.01, 1.0, 10.0],\n",
    "     'solver': ['lbfgs', 'sag', 'newton-cg'],\n",
    "     'penalty': ['l2'],\n",
    "     'max_iter': [300],\n",
    "#      'class_weight': ['balanced']\n",
    "    }\n",
    "]\n",
    "    \n",
    "# Create Logistic Regression classifier\n",
    "logreg_classifier = LogisticRegression()\n",
    "\n",
    "# Create GridSearchCV with 5-fold cross-validation\n",
    "grid_search_log = GridSearchCV(logreg_classifier, param_grid_log, cv=5, scoring='accuracy')\n",
    "\n",
    "# Perform the grid search to find the best hyperparameters\n",
    "grid_search_log.fit(X_train, y_train)\n",
    "\n",
    "# Get the best hyperparameters\n",
    "best_params_log = grid_search_log.best_params_\n",
    "print(\"Best Hyperparameters:\", best_params_log)\n",
    "\n",
    "# Use the best model found by GridSearchCV for predictions on the validation set\n",
    "best_model_log = grid_search_log.best_estimator_\n",
    "val_predictions_logreg = best_model_log.predict(X_val)\n",
    "\n",
    "# Calculate accuracy on the validation set\n",
    "accuracy_log_hyp = accuracy_score(y_val, val_predictions_logreg)\n",
    "print(f\"Accuracy (Logistic Regression): {accuracy_log_hyp}\")\n",
    "\n",
    "print(\"______________________________________________________________\")\n",
    "\n",
    "# Print classification report for precision, recall, f1-score, support\n",
    "print(classification_report(y_val, val_predictions_logreg))\n",
    "\n",
    "print(\"______________________________________________________________\")"
   ]
  },
  {
   "cell_type": "code",
   "execution_count": 66,
   "metadata": {
    "execution": {
     "iopub.execute_input": "2023-07-28T12:16:15.263039Z",
     "iopub.status.busy": "2023-07-28T12:16:15.262465Z",
     "iopub.status.idle": "2023-07-28T12:16:15.280458Z",
     "shell.execute_reply": "2023-07-28T12:16:15.279160Z",
     "shell.execute_reply.started": "2023-07-28T12:16:15.262983Z"
    }
   },
   "outputs": [
    {
     "data": {
      "text/plain": [
       "0.7785201920322835"
      ]
     },
     "execution_count": 66,
     "metadata": {},
     "output_type": "execute_result"
    }
   ],
   "source": [
    "grid_search_log.best_score_"
   ]
  },
  {
   "cell_type": "code",
   "execution_count": 67,
   "metadata": {
    "execution": {
     "iopub.execute_input": "2023-07-28T12:16:15.283416Z",
     "iopub.status.busy": "2023-07-28T12:16:15.282918Z",
     "iopub.status.idle": "2023-07-28T12:16:15.297736Z",
     "shell.execute_reply": "2023-07-28T12:16:15.296525Z",
     "shell.execute_reply.started": "2023-07-28T12:16:15.283375Z"
    }
   },
   "outputs": [
    {
     "data": {
      "text/plain": [
       "{'C': 10.0, 'max_iter': 300, 'penalty': 'l2', 'solver': 'lbfgs'}"
      ]
     },
     "execution_count": 67,
     "metadata": {},
     "output_type": "execute_result"
    }
   ],
   "source": [
    "grid_search_log.best_params_"
   ]
  },
  {
   "cell_type": "code",
   "execution_count": 68,
   "metadata": {
    "execution": {
     "iopub.execute_input": "2023-07-28T12:16:15.300588Z",
     "iopub.status.busy": "2023-07-28T12:16:15.300235Z",
     "iopub.status.idle": "2023-07-28T12:16:15.310229Z",
     "shell.execute_reply": "2023-07-28T12:16:15.309229Z",
     "shell.execute_reply.started": "2023-07-28T12:16:15.300561Z"
    }
   },
   "outputs": [
    {
     "name": "stdout",
     "output_type": "stream",
     "text": [
      "-0.6682410940943496 {'C': 0.01, 'max_iter': 300, 'penalty': 'l1', 'solver': 'liblinear'}\n",
      "-0.6682564536028284 {'C': 0.01, 'max_iter': 300, 'penalty': 'l1', 'solver': 'saga'}\n",
      "-0.6685713407792154 {'C': 0.01, 'max_iter': 300, 'penalty': 'l2', 'solver': 'liblinear'}\n",
      "-0.6685636605826024 {'C': 0.01, 'max_iter': 300, 'penalty': 'l2', 'solver': 'saga'}\n",
      "-0.7776907337472336 {'C': 1.0, 'max_iter': 300, 'penalty': 'l1', 'solver': 'liblinear'}\n",
      "-0.7776600132556972 {'C': 1.0, 'max_iter': 300, 'penalty': 'l1', 'solver': 'saga'}\n",
      "-0.7757630173736564 {'C': 1.0, 'max_iter': 300, 'penalty': 'l2', 'solver': 'liblinear'}\n",
      "-0.775739977078733 {'C': 1.0, 'max_iter': 300, 'penalty': 'l2', 'solver': 'saga'}\n",
      "-0.7783358699678127 {'C': 10.0, 'max_iter': 300, 'penalty': 'l1', 'solver': 'liblinear'}\n",
      "-0.7783512300661231 {'C': 10.0, 'max_iter': 300, 'penalty': 'l1', 'solver': 'saga'}\n",
      "-0.7785048313441416 {'C': 10.0, 'max_iter': 300, 'penalty': 'l2', 'solver': 'liblinear'}\n",
      "-0.778504831049226 {'C': 10.0, 'max_iter': 300, 'penalty': 'l2', 'solver': 'saga'}\n",
      "-0.6685713407792153 {'C': 0.01, 'max_iter': 300, 'penalty': 'l2', 'solver': 'lbfgs'}\n",
      "-0.6685636605826024 {'C': 0.01, 'max_iter': 300, 'penalty': 'l2', 'solver': 'sag'}\n",
      "-0.6685636605826024 {'C': 0.01, 'max_iter': 300, 'penalty': 'l2', 'solver': 'newton-cg'}\n",
      "-0.7757399767838173 {'C': 1.0, 'max_iter': 300, 'penalty': 'l2', 'solver': 'lbfgs'}\n",
      "-0.7757476569804304 {'C': 1.0, 'max_iter': 300, 'penalty': 'l2', 'solver': 'sag'}\n",
      "-0.7757476569804304 {'C': 1.0, 'max_iter': 300, 'penalty': 'l2', 'solver': 'newton-cg'}\n",
      "-0.7785201920322835 {'C': 10.0, 'max_iter': 300, 'penalty': 'l2', 'solver': 'lbfgs'}\n",
      "-0.7784971511475287 {'C': 10.0, 'max_iter': 300, 'penalty': 'l2', 'solver': 'sag'}\n",
      "-0.7785048313441416 {'C': 10.0, 'max_iter': 300, 'penalty': 'l2', 'solver': 'newton-cg'}\n"
     ]
    }
   ],
   "source": [
    "cvres = grid_search_log.cv_results_\n",
    "for mean_score, params in zip(cvres[\"mean_test_score\"], cvres[\"params\"]):\n",
    "    print(-mean_score, params)"
   ]
  },
  {
   "cell_type": "markdown",
   "metadata": {},
   "source": [
    "### Tuning for SGD Classifier"
   ]
  },
  {
   "cell_type": "code",
   "execution_count": 69,
   "metadata": {
    "execution": {
     "iopub.execute_input": "2023-07-28T12:16:15.312546Z",
     "iopub.status.busy": "2023-07-28T12:16:15.311688Z",
     "iopub.status.idle": "2023-07-28T13:54:22.835562Z",
     "shell.execute_reply": "2023-07-28T13:54:22.830695Z",
     "shell.execute_reply.started": "2023-07-28T12:16:15.312513Z"
    }
   },
   "outputs": [
    {
     "name": "stdout",
     "output_type": "stream",
     "text": [
      "Best Hyperparameters: {'loss': 'modified_huber'}\n",
      "Accuracy (SGD Classifier): 0.7662816416810027\n",
      "______________________________________________________________\n",
      "              precision    recall  f1-score   support\n",
      "\n",
      "    NEGATIVE       0.78      0.41      0.54     10800\n",
      "    POSITIVE       0.76      0.94      0.84     21752\n",
      "\n",
      "    accuracy                           0.77     32552\n",
      "   macro avg       0.77      0.68      0.69     32552\n",
      "weighted avg       0.77      0.77      0.74     32552\n",
      "\n",
      "______________________________________________________________\n",
      "CPU times: user 1h 36min 28s, sys: 2min 13s, total: 1h 38min 42s\n",
      "Wall time: 1h 38min 7s\n"
     ]
    }
   ],
   "source": [
    "%%time\n",
    "\n",
    "from sklearn.linear_model import SGDClassifier\n",
    "from sklearn.metrics import accuracy_score, classification_report\n",
    "from sklearn.model_selection import GridSearchCV\n",
    "\n",
    "# Define the hyperparameters to tune\n",
    "param_grid_sgd = [\n",
    "    {'loss': ['hinge', 'modified_huber', 'squared_hinge']},\n",
    "    \n",
    "    {'alpha': [0, 0.0001, 0.001, 0.1],\n",
    "#     'penalty': ['l1', 'l2', 'elasticnet','none'],\n",
    "    'penalty': ['l1', 'l2'],\n",
    "    'max_iter': [2000]},\n",
    "    \n",
    "    {'alpha': [0.0001, 0.001, 0.1],\n",
    "    'l1_ratio': [0.1, 0.5, 0.7],\n",
    "    'penalty': ['elasticnet'],\n",
    "    'max_iter': [2000]},\n",
    "    \n",
    "    {'learning_rate': ['optimal', 'invscaling', 'adaptive'],\n",
    "    'max_iter': [2000]}\n",
    "]\n",
    "\n",
    "# Create SGD Classifier classifier\n",
    "sgd_classifier = SGDClassifier(random_state=5)\n",
    "\n",
    "# Create GridSearchCV with 5-fold cross-validation\n",
    "grid_search_sgd = GridSearchCV(sgd_classifier, param_grid_sgd, cv=5, scoring='accuracy')\n",
    "\n",
    "# Train the model and perform the grid search to find the best hyperparameters\n",
    "grid_search_sgd.fit(X_train, y_train)\n",
    "\n",
    "# Get the best hyperparameters\n",
    "best_params_sgd = grid_search_sgd.best_params_\n",
    "print(\"Best Hyperparameters:\", best_params_sgd)\n",
    "\n",
    "# Use the best model found by GridSearchCV for predictions on the validation set\n",
    "best_model_sgd = grid_search_sgd.best_estimator_\n",
    "val_predictions_sgd = best_model_sgd.predict(X_val)\n",
    "\n",
    "# Calculate accuracy on the validation set\n",
    "accuracy_sgd_hyp = accuracy_score(y_val, val_predictions_sgd)\n",
    "print(f\"Accuracy (SGD Classifier): {accuracy_sgd_hyp}\")\n",
    "\n",
    "print(\"______________________________________________________________\")\n",
    "\n",
    "# Print classification report for precision, recall, f1-score, support\n",
    "print(classification_report(y_val, val_predictions_sgd))\n",
    "\n",
    "print(\"______________________________________________________________\")"
   ]
  },
  {
   "cell_type": "code",
   "execution_count": 70,
   "metadata": {
    "execution": {
     "iopub.execute_input": "2023-07-28T13:54:22.843618Z",
     "iopub.status.busy": "2023-07-28T13:54:22.843029Z",
     "iopub.status.idle": "2023-07-28T13:54:22.859297Z",
     "shell.execute_reply": "2023-07-28T13:54:22.858009Z",
     "shell.execute_reply.started": "2023-07-28T13:54:22.843566Z"
    }
   },
   "outputs": [
    {
     "data": {
      "text/plain": [
       "0.7723684182470512"
      ]
     },
     "execution_count": 70,
     "metadata": {},
     "output_type": "execute_result"
    }
   ],
   "source": [
    "grid_search_sgd.best_score_"
   ]
  },
  {
   "cell_type": "code",
   "execution_count": 71,
   "metadata": {
    "execution": {
     "iopub.execute_input": "2023-07-28T13:54:22.861389Z",
     "iopub.status.busy": "2023-07-28T13:54:22.860595Z",
     "iopub.status.idle": "2023-07-28T13:54:22.874963Z",
     "shell.execute_reply": "2023-07-28T13:54:22.874133Z",
     "shell.execute_reply.started": "2023-07-28T13:54:22.861353Z"
    }
   },
   "outputs": [
    {
     "data": {
      "text/plain": [
       "{'loss': 'modified_huber'}"
      ]
     },
     "execution_count": 71,
     "metadata": {},
     "output_type": "execute_result"
    }
   ],
   "source": [
    "grid_search_sgd.best_params_"
   ]
  },
  {
   "cell_type": "code",
   "execution_count": 72,
   "metadata": {
    "execution": {
     "iopub.execute_input": "2023-07-28T13:54:22.877043Z",
     "iopub.status.busy": "2023-07-28T13:54:22.876640Z",
     "iopub.status.idle": "2023-07-28T13:54:22.890653Z",
     "shell.execute_reply": "2023-07-28T13:54:22.888975Z",
     "shell.execute_reply.started": "2023-07-28T13:54:22.877013Z"
    }
   },
   "outputs": [
    {
     "name": "stdout",
     "output_type": "stream",
     "text": [
      "-0.7380842163905452 {'loss': 'hinge'}\n",
      "-0.7723684182470512 {'loss': 'modified_huber'}\n",
      "-0.719552157360357 {'loss': 'squared_hinge'}\n",
      "nan {'alpha': 0, 'max_iter': 2000, 'penalty': 'l1'}\n",
      "nan {'alpha': 0, 'max_iter': 2000, 'penalty': 'l2'}\n",
      "-0.7356573010981622 {'alpha': 0.0001, 'max_iter': 2000, 'penalty': 'l1'}\n",
      "-0.7380842163905452 {'alpha': 0.0001, 'max_iter': 2000, 'penalty': 'l2'}\n",
      "-0.668241094979097 {'alpha': 0.001, 'max_iter': 2000, 'penalty': 'l1'}\n",
      "-0.6682641349791045 {'alpha': 0.001, 'max_iter': 2000, 'penalty': 'l2'}\n",
      "-0.668241094979097 {'alpha': 0.1, 'max_iter': 2000, 'penalty': 'l1'}\n",
      "-0.668241094979097 {'alpha': 0.1, 'max_iter': 2000, 'penalty': 'l2'}\n",
      "-0.7359875259592608 {'alpha': 0.0001, 'l1_ratio': 0.1, 'max_iter': 2000, 'penalty': 'elasticnet'}\n",
      "-0.7301891143573401 {'alpha': 0.0001, 'l1_ratio': 0.5, 'max_iter': 2000, 'penalty': 'elasticnet'}\n",
      "-0.7341596813383147 {'alpha': 0.0001, 'l1_ratio': 0.7, 'max_iter': 2000, 'penalty': 'elasticnet'}\n",
      "-0.668241094979097 {'alpha': 0.001, 'l1_ratio': 0.1, 'max_iter': 2000, 'penalty': 'elasticnet'}\n",
      "-0.668241094979097 {'alpha': 0.001, 'l1_ratio': 0.5, 'max_iter': 2000, 'penalty': 'elasticnet'}\n",
      "-0.668241094979097 {'alpha': 0.001, 'l1_ratio': 0.7, 'max_iter': 2000, 'penalty': 'elasticnet'}\n",
      "-0.668241094979097 {'alpha': 0.1, 'l1_ratio': 0.1, 'max_iter': 2000, 'penalty': 'elasticnet'}\n",
      "-0.668241094979097 {'alpha': 0.1, 'l1_ratio': 0.5, 'max_iter': 2000, 'penalty': 'elasticnet'}\n",
      "-0.668241094979097 {'alpha': 0.1, 'l1_ratio': 0.7, 'max_iter': 2000, 'penalty': 'elasticnet'}\n",
      "-0.7380842163905452 {'learning_rate': 'optimal', 'max_iter': 2000}\n",
      "nan {'learning_rate': 'invscaling', 'max_iter': 2000}\n",
      "nan {'learning_rate': 'adaptive', 'max_iter': 2000}\n"
     ]
    }
   ],
   "source": [
    "cvres = grid_search_sgd.cv_results_\n",
    "for mean_score, params in zip(cvres[\"mean_test_score\"], cvres[\"params\"]):\n",
    "    print(-mean_score, params)"
   ]
  },
  {
   "cell_type": "code",
   "execution_count": null,
   "metadata": {},
   "outputs": [],
   "source": []
  },
  {
   "cell_type": "code",
   "execution_count": null,
   "metadata": {},
   "outputs": [],
   "source": []
  },
  {
   "cell_type": "markdown",
   "metadata": {},
   "source": [
    "# Visulization of model adenqucy by different curve"
   ]
  },
  {
   "cell_type": "code",
   "execution_count": 73,
   "metadata": {
    "execution": {
     "iopub.execute_input": "2023-07-28T13:54:22.893239Z",
     "iopub.status.busy": "2023-07-28T13:54:22.892507Z",
     "iopub.status.idle": "2023-07-28T13:54:23.321154Z",
     "shell.execute_reply": "2023-07-28T13:54:23.319954Z",
     "shell.execute_reply.started": "2023-07-28T13:54:22.893205Z"
    }
   },
   "outputs": [
    {
     "data": {
      "image/png": "[encoded data removed]",
      "text/plain": [
       "<Figure size 1000x600 with 1 Axes>"
      ]
     },
     "metadata": {},
     "output_type": "display_data"
    }
   ],
   "source": [
    "import matplotlib.pyplot as plt\n",
    "\n",
    "# List of model names\n",
    "model_names = ['Logistic', 'Linear SVC', 'SGD Classifier', 'Perceptron', 'Gaussian NB']\n",
    "\n",
    "# List of accuracy values corresponding to each model\n",
    "accuracy_values = [accuracy_log, accuracy_svc, accuracy_sgd, accuracy_perc, accuracy_gnb]\n",
    "\n",
    "# Plot the bar graph\n",
    "plt.figure(figsize=(10, 6))\n",
    "plt.bar(model_names, accuracy_values, color='skyblue')\n",
    "plt.xlabel('Model')\n",
    "plt.ylabel('Accuracy')\n",
    "plt.title('Accuracy of Different Models')\n",
    "plt.ylim(0, 1)  # Set the y-axis range from 0 to 1\n",
    "plt.grid(axis='y', linestyle='--', alpha=0.7)\n",
    "plt.show()"
   ]
  },
  {
   "cell_type": "code",
   "execution_count": 76,
   "metadata": {
    "execution": {
     "iopub.execute_input": "2023-07-28T13:59:00.885333Z",
     "iopub.status.busy": "2023-07-28T13:59:00.880732Z",
     "iopub.status.idle": "2023-07-28T13:59:00.920737Z",
     "shell.execute_reply": "2023-07-28T13:59:00.918593Z",
     "shell.execute_reply.started": "2023-07-28T13:59:00.885212Z"
    }
   },
   "outputs": [],
   "source": [
    "import numpy as np\n",
    "import matplotlib.pyplot as plt\n",
    "from sklearn.metrics import roc_curve, auc\n",
    "\n",
    "def plot_roc_curve_for_model(best_model, X_val, y_val):\n",
    "    # Get confidence scores using decision_function\n",
    "    conf_scores = best_model.decision_function(X_val)\n",
    "\n",
    "    # Convert confidence scores to probabilities using the sigmoid function\n",
    "    probs_positive_class = 1 / (1 + np.exp(-conf_scores))\n",
    "\n",
    "    # Convert string labels to numeric values (0 for 'NEGATIVE' and 1 for 'POSITIVE')\n",
    "    y_val_numeric = y_val.replace({'NEGATIVE': 0, 'POSITIVE': 1})\n",
    "\n",
    "    # Compute ROC curve\n",
    "    fpr, tpr, thresholds = roc_curve(y_val_numeric, probs_positive_class)\n",
    "\n",
    "    # Compute the area under the ROC curve (AUC)\n",
    "    roc_auc = auc(fpr, tpr)\n",
    "\n",
    "    # Plot the ROC curve\n",
    "    plt.figure()\n",
    "    plt.plot(fpr, tpr, color='darkorange', lw=2, label=f'ROC curve (AUC = {roc_auc:.2f})')\n",
    "    plt.plot([0, 1], [0, 1], color='navy', lw=2, linestyle='--')\n",
    "    plt.xlabel('False Positive Rate')\n",
    "    plt.ylabel('True Positive Rate')\n",
    "    plt.title('Receiver Operating Characteristic (ROC) Curve')\n",
    "    plt.legend(loc='lower right')\n",
    "    plt.show()"
   ]
  },
  {
   "cell_type": "code",
   "execution_count": 77,
   "metadata": {
    "execution": {
     "iopub.execute_input": "2023-07-28T13:59:04.431025Z",
     "iopub.status.busy": "2023-07-28T13:59:04.429890Z",
     "iopub.status.idle": "2023-07-28T13:59:05.248218Z",
     "shell.execute_reply": "2023-07-28T13:59:05.246699Z",
     "shell.execute_reply.started": "2023-07-28T13:59:04.430988Z"
    }
   },
   "outputs": [
    {
     "data": {
      "image/png": "[encoded data removed]",
      "text/plain": [
       "<Figure size 640x480 with 1 Axes>"
      ]
     },
     "metadata": {},
     "output_type": "display_data"
    }
   ],
   "source": [
    "plot_roc_curve_for_model(best_model_svc, X_val, y_val)"
   ]
  },
  {
   "cell_type": "code",
   "execution_count": 78,
   "metadata": {
    "execution": {
     "iopub.execute_input": "2023-07-28T13:59:06.645664Z",
     "iopub.status.busy": "2023-07-28T13:59:06.645222Z",
     "iopub.status.idle": "2023-07-28T13:59:07.284670Z",
     "shell.execute_reply": "2023-07-28T13:59:07.283013Z",
     "shell.execute_reply.started": "2023-07-28T13:59:06.645635Z"
    }
   },
   "outputs": [
    {
     "data": {
      "image/png": "[encoded data removed]",
      "text/plain": [
       "<Figure size 640x480 with 1 Axes>"
      ]
     },
     "metadata": {},
     "output_type": "display_data"
    }
   ],
   "source": [
    "plot_roc_curve_for_model(best_model_log, X_val, y_val)"
   ]
  },
  {
   "cell_type": "code",
   "execution_count": 79,
   "metadata": {
    "execution": {
     "iopub.execute_input": "2023-07-28T13:59:07.395024Z",
     "iopub.status.busy": "2023-07-28T13:59:07.394092Z",
     "iopub.status.idle": "2023-07-28T13:59:08.040616Z",
     "shell.execute_reply": "2023-07-28T13:59:08.039321Z",
     "shell.execute_reply.started": "2023-07-28T13:59:07.394978Z"
    }
   },
   "outputs": [
    {
     "data": {
      "image/png": "[encoded data removed]",
      "text/plain": [
       "<Figure size 640x480 with 1 Axes>"
      ]
     },
     "metadata": {},
     "output_type": "display_data"
    }
   ],
   "source": [
    "plot_roc_curve_for_model(best_model_sgd, X_val, y_val)"
   ]
  },
  {
   "cell_type": "code",
   "execution_count": null,
   "metadata": {},
   "outputs": [],
   "source": []
  },
  {
   "cell_type": "markdown",
   "metadata": {},
   "source": [
    "# Prediction of final test data and making submission file"
   ]
  },
  {
   "cell_type": "code",
   "execution_count": 80,
   "metadata": {
    "execution": {
     "iopub.execute_input": "2023-07-28T13:59:21.604484Z",
     "iopub.status.busy": "2023-07-28T13:59:21.604003Z",
     "iopub.status.idle": "2023-07-28T13:59:21.609653Z",
     "shell.execute_reply": "2023-07-28T13:59:21.608457Z",
     "shell.execute_reply.started": "2023-07-28T13:59:21.604447Z"
    }
   },
   "outputs": [],
   "source": [
    "# %%time\n",
    "\n",
    "# from sklearn.svm import LinearSVC\n",
    "\n",
    "# # Create SVC classifier\n",
    "# # model = SVC(kernel='linear', random_state=5)\n",
    "# model = LinearSVC(random_state=5, C=0.01, dual=False, max_iter=1500, penalty='l2', loss='squared_hinge')\n",
    "\n",
    "# # Train the model\n",
    "# model.fit(X_train_vectors, Train_Data['sentiment'])\n",
    "\n",
    "# # Make predictions on the validation set\n",
    "# predictions = model.predict(X_test)"
   ]
  },
  {
   "cell_type": "code",
   "execution_count": 94,
   "metadata": {
    "execution": {
     "iopub.execute_input": "2023-07-28T14:11:39.900134Z",
     "iopub.status.busy": "2023-07-28T14:11:39.899599Z",
     "iopub.status.idle": "2023-07-28T14:15:52.723138Z",
     "shell.execute_reply": "2023-07-28T14:15:52.721123Z",
     "shell.execute_reply.started": "2023-07-28T14:11:39.900095Z"
    }
   },
   "outputs": [
    {
     "name": "stdout",
     "output_type": "stream",
     "text": [
      "CPU times: user 4min 2s, sys: 10.3 s, total: 4min 12s\n",
      "Wall time: 4min 12s\n"
     ]
    }
   ],
   "source": [
    "%%time\n",
    "\n",
    "from sklearn.linear_model import LogisticRegression\n",
    "\n",
    "# Train a logistic regression model\n",
    "model = LogisticRegression(C= 10.0, max_iter= 300, penalty= 'l2', solver= 'liblinear')\n",
    "model.fit(X_train_vectors, Train_Data['sentiment'])\n",
    "\n",
    "# Make predictions on the test set\n",
    "predictions = model.predict(X_test)"
   ]
  },
  {
   "cell_type": "code",
   "execution_count": 95,
   "metadata": {
    "execution": {
     "iopub.execute_input": "2023-07-28T14:15:52.726531Z",
     "iopub.status.busy": "2023-07-28T14:15:52.726050Z",
     "iopub.status.idle": "2023-07-28T14:15:52.735945Z",
     "shell.execute_reply": "2023-07-28T14:15:52.733242Z",
     "shell.execute_reply.started": "2023-07-28T14:15:52.726484Z"
    }
   },
   "outputs": [],
   "source": [
    "# %%time\n",
    "\n",
    "# from sklearn.linear_model import SGDClassifier\n",
    "\n",
    "# # Create SGD Classifier classifier\n",
    "# # model = SGDClassifier(loss= 'modified_huber', learning_rate= 'optimal', alpha= 0.0001, l1_ratio= 0.1, max_iter= 2000, penalty= 'elasticnet', random_state=5)\n",
    "# model = SGDClassifier(loss= 'modified_huber', learning_rate= 'optimal', alpha= 0.0001, max_iter= 2000, penalty= 'l1', random_state=5)\n",
    "\n",
    "# # Train the model\n",
    "# model.fit(X_train_vectors, Train_Data['sentiment'])\n",
    "\n",
    "# # Make predictions on the validation set\n",
    "# predictions = model.predict(X_test)"
   ]
  },
  {
   "cell_type": "code",
   "execution_count": 96,
   "metadata": {
    "execution": {
     "iopub.execute_input": "2023-07-28T14:15:52.738359Z",
     "iopub.status.busy": "2023-07-28T14:15:52.737590Z",
     "iopub.status.idle": "2023-07-28T14:15:52.765812Z",
     "shell.execute_reply": "2023-07-28T14:15:52.764617Z",
     "shell.execute_reply.started": "2023-07-28T14:15:52.738317Z"
    }
   },
   "outputs": [
    {
     "data": {
      "text/plain": [
       "array(['POSITIVE', 'NEGATIVE'], dtype=object)"
      ]
     },
     "execution_count": 96,
     "metadata": {},
     "output_type": "execute_result"
    }
   ],
   "source": [
    "# Convert predictions numpy array to pandas DataFrame\n",
    "y_pred = pd.DataFrame(predictions, columns=['sentiment'])\n",
    "\n",
    "y_pred['sentiment'].unique()"
   ]
  },
  {
   "cell_type": "code",
   "execution_count": 97,
   "metadata": {
    "execution": {
     "iopub.execute_input": "2023-07-28T14:15:52.769675Z",
     "iopub.status.busy": "2023-07-28T14:15:52.768753Z",
     "iopub.status.idle": "2023-07-28T14:15:52.798043Z",
     "shell.execute_reply": "2023-07-28T14:15:52.796679Z",
     "shell.execute_reply.started": "2023-07-28T14:15:52.769631Z"
    }
   },
   "outputs": [
    {
     "data": {
      "text/plain": [
       "POSITIVE    41445\n",
       "NEGATIVE    13870\n",
       "Name: sentiment, dtype: int64"
      ]
     },
     "execution_count": 97,
     "metadata": {},
     "output_type": "execute_result"
    }
   ],
   "source": [
    "y_pred['sentiment'].value_counts()"
   ]
  },
  {
   "cell_type": "code",
   "execution_count": 98,
   "metadata": {
    "execution": {
     "iopub.execute_input": "2023-07-28T14:15:52.800822Z",
     "iopub.status.busy": "2023-07-28T14:15:52.800031Z",
     "iopub.status.idle": "2023-07-28T14:15:52.809342Z",
     "shell.execute_reply": "2023-07-28T14:15:52.808083Z",
     "shell.execute_reply.started": "2023-07-28T14:15:52.800777Z"
    }
   },
   "outputs": [
    {
     "data": {
      "text/plain": [
       "(55315, 1)"
      ]
     },
     "execution_count": 98,
     "metadata": {},
     "output_type": "execute_result"
    }
   ],
   "source": [
    "y_pred.shape"
   ]
  },
  {
   "cell_type": "code",
   "execution_count": 99,
   "metadata": {
    "execution": {
     "iopub.execute_input": "2023-07-28T14:15:52.812029Z",
     "iopub.status.busy": "2023-07-28T14:15:52.811226Z",
     "iopub.status.idle": "2023-07-28T14:15:52.860403Z",
     "shell.execute_reply": "2023-07-28T14:15:52.859320Z",
     "shell.execute_reply.started": "2023-07-28T14:15:52.811984Z"
    }
   },
   "outputs": [],
   "source": [
    "# Creating submission csv file\n",
    "ID = list(range(len(X_test)))\n",
    "submission = pd.DataFrame({'id': ID, 'sentiment': y_pred['sentiment']})"
   ]
  },
  {
   "cell_type": "code",
   "execution_count": 100,
   "metadata": {
    "execution": {
     "iopub.execute_input": "2023-07-28T14:15:52.862995Z",
     "iopub.status.busy": "2023-07-28T14:15:52.862212Z",
     "iopub.status.idle": "2023-07-28T14:15:53.031684Z",
     "shell.execute_reply": "2023-07-28T14:15:53.030489Z",
     "shell.execute_reply.started": "2023-07-28T14:15:52.862949Z"
    }
   },
   "outputs": [
    {
     "data": {
      "text/html": [
       "<div>\n",
       "<style scoped>\n",
       "    .dataframe tbody tr th:only-of-type {\n",
       "        vertical-align: middle;\n",
       "    }\n",
       "\n",
       "    .dataframe tbody tr th {\n",
       "        vertical-align: top;\n",
       "    }\n",
       "\n",
       "    .dataframe thead th {\n",
       "        text-align: right;\n",
       "    }\n",
       "</style>\n",
       "<table border=\"1\" class=\"dataframe\">\n",
       "  <thead>\n",
       "    <tr style=\"text-align: right;\">\n",
       "      <th></th>\n",
       "      <th>id</th>\n",
       "      <th>sentiment</th>\n",
       "    </tr>\n",
       "  </thead>\n",
       "  <tbody>\n",
       "    <tr>\n",
       "      <th>0</th>\n",
       "      <td>0</td>\n",
       "      <td>POSITIVE</td>\n",
       "    </tr>\n",
       "    <tr>\n",
       "      <th>1</th>\n",
       "      <td>1</td>\n",
       "      <td>POSITIVE</td>\n",
       "    </tr>\n",
       "    <tr>\n",
       "      <th>2</th>\n",
       "      <td>2</td>\n",
       "      <td>POSITIVE</td>\n",
       "    </tr>\n",
       "    <tr>\n",
       "      <th>3</th>\n",
       "      <td>3</td>\n",
       "      <td>POSITIVE</td>\n",
       "    </tr>\n",
       "    <tr>\n",
       "      <th>4</th>\n",
       "      <td>4</td>\n",
       "      <td>POSITIVE</td>\n",
       "    </tr>\n",
       "  </tbody>\n",
       "</table>\n",
       "</div>"
      ],
      "text/plain": [
       "   id sentiment\n",
       "0   0  POSITIVE\n",
       "1   1  POSITIVE\n",
       "2   2  POSITIVE\n",
       "3   3  POSITIVE\n",
       "4   4  POSITIVE"
      ]
     },
     "execution_count": 100,
     "metadata": {},
     "output_type": "execute_result"
    }
   ],
   "source": [
    "submission.to_csv('submission.csv', index=False)\n",
    "submission.head()"
   ]
  },
  {
   "cell_type": "code",
   "execution_count": null,
   "metadata": {},
   "outputs": [],
   "source": []
  },
  {
   "cell_type": "code",
   "execution_count": null,
   "metadata": {},
   "outputs": [],
   "source": []
  }
 ],
 "metadata": {
  "kernelspec": {
   "display_name": "Python 3 (ipykernel)",
   "language": "python",
   "name": "python3"
  },
  "language_info": {
   "codemirror_mode": {
    "name": "ipython",
    "version": 3
   },
   "file_extension": ".py",
   "mimetype": "text/x-python",
   "name": "python",
   "nbconvert_exporter": "python",
   "pygments_lexer": "ipython3",
   "version": "3.10.4"
  }
 },
 "nbformat": 4,
 "nbformat_minor": 4
}
